{
 "cells": [
  {
   "cell_type": "markdown",
   "metadata": {},
   "source": [
    "## Deep Denoising Compressive Autoencoder\n",
    "\n",
    "<p> Author: Qasim Wani <br> Date written: Nov. 25, 2020 </p>"
   ]
  },
  {
   "cell_type": "code",
   "execution_count": 252,
   "metadata": {},
   "outputs": [],
   "source": [
    "import numpy as np\n",
    "import pandas as pd\n",
    "import matplotlib.pyplot as plt\n",
    "import matplotlib.ticker as tkt\n",
    "\n",
    "import cv2\n",
    "from skimage.color import rgb2gray\n",
    "\n",
    "from tqdm import tqdm\n",
    "import time\n",
    "import os\n",
    "\n",
    "from keras.datasets import mnist\n",
    "from torchvision import transforms\n",
    "from torch.utils.data import DataLoader,Dataset\n",
    "\n",
    "import torch\n",
    "import torch.nn as nn\n",
    "import torch.optim as optim\n",
    "from torch.autograd import Variable"
   ]
  },
  {
   "cell_type": "markdown",
   "metadata": {},
   "source": [
    "## Step 1. loading data"
   ]
  },
  {
   "cell_type": "code",
   "execution_count": 2,
   "metadata": {},
   "outputs": [
    {
     "name": "stdout",
     "output_type": "stream",
     "text": [
      "Train data shape (60000, 28, 28)\n",
      "Test data shape (10000, 28, 28)\n"
     ]
    }
   ],
   "source": [
    "(X_train, y_train),(X_test, y_test) = mnist.load_data()\n",
    "print(f\"Train data shape {X_train.shape}\")\n",
    "print(f\"Test data shape {X_test.shape}\")"
   ]
  },
  {
   "cell_type": "markdown",
   "metadata": {},
   "source": [
    "## Step 2. Gaussian Noise"
   ]
  },
  {
   "cell_type": "code",
   "execution_count": 3,
   "metadata": {},
   "outputs": [],
   "source": [
    "def noise(img):\n",
    "    \"\"\"\n",
    "    Standard gaussian model for adding noise to an image.\n",
    "    @Param:\n",
    "    1. img - (nd.array) image to add noise to.\n",
    "    @Return:\n",
    "    - img - output of gaussian noise with mean = 0, variance = 1.\n",
    "    \"\"\"\n",
    "    return img + np.random.normal(0, 10, img.shape)"
   ]
  },
  {
   "cell_type": "code",
   "execution_count": 4,
   "metadata": {},
   "outputs": [
    {
     "data": {
      "image/png": "[encoded data removed]",
      "text/plain": [
       "<Figure size 576x576 with 2 Axes>"
      ]
     },
     "metadata": {
      "needs_background": "light"
     },
     "output_type": "display_data"
    }
   ],
   "source": [
    "plt.figure(figsize=(8, 8))\n",
    "plt.subplot(1, 2, 1), plt.imshow(X_train[0], 'gray'), plt.title(\"Original Image\")\n",
    "plt.subplot(1, 2, 2), plt.imshow(noise(X_train[0]), 'gray'), plt.title(\"Noisy Image\")\n",
    "plt.show()"
   ]
  },
  {
   "cell_type": "code",
   "execution_count": 5,
   "metadata": {},
   "outputs": [],
   "source": [
    "def generate_noisy_dataset(feature_matrix):\n",
    "    \"\"\"\n",
    "    Generates noisy dataset of images.\n",
    "    @Param:\n",
    "    1. feature_matrix: (nd.array) original/clean images.\n",
    "    @Returns:\n",
    "    - noisy_data: dirty/noisy images after applying gaussian noise function.\n",
    "    \"\"\"\n",
    "    noisy_data = []\n",
    "    for img in feature_matrix:\n",
    "        noisy_data.append(noise(img))\n",
    "    return np.array(noisy_data).reshape(feature_matrix.shape)"
   ]
  },
  {
   "cell_type": "code",
   "execution_count": 6,
   "metadata": {},
   "outputs": [],
   "source": [
    "noisy_X_train = generate_noisy_dataset(X_train)\n",
    "noisy_X_test = generate_noisy_dataset(X_test)"
   ]
  },
  {
   "cell_type": "code",
   "execution_count": 7,
   "metadata": {},
   "outputs": [],
   "source": [
    "class Dataset(Dataset):\n",
    "    \"\"\"Generate dataset from feature_matrix and labels\"\"\"\n",
    "    def __init__(self, noisy_data, original_data, labels, transform):\n",
    "        \"\"\"Gather data\"\"\"\n",
    "        self.dirty = noisy_data\n",
    "        self.clean = original_data\n",
    "        self.labels = labels\n",
    "        self.transform = transform\n",
    "    \n",
    "    def __len__(self):\n",
    "        \"\"\"Overrride default len to call shape of noisy_dataset\"\"\"\n",
    "        return len(self.dirty)\n",
    "    \n",
    "    def __getitem__(self, i):\n",
    "        \"\"\"Get an item from noisy dataset at index, i\"\"\"\n",
    "        x_noisy = self.dirty[i]\n",
    "        x_clean = self.clean[i]\n",
    "        y_label = self.labels[i]\n",
    "        \n",
    "        #check for transform\n",
    "        if(self.transform is not None):\n",
    "            x_noisy = self.transform(x_noisy)\n",
    "            x_clean = self.transform(x_clean)\n",
    "        \n",
    "        return x_noisy, x_clean, y_label"
   ]
  },
  {
   "cell_type": "code",
   "execution_count": 8,
   "metadata": {},
   "outputs": [],
   "source": [
    "tsfms = transforms.Compose([transforms.ToTensor()]) #get transform\n",
    "#load data\n",
    "trainset = Dataset(noisy_X_train, X_train, y_train, tsfms)\n",
    "testset  = Dataset(noisy_X_test, X_test, y_test, tsfms)"
   ]
  },
  {
   "cell_type": "code",
   "execution_count": 9,
   "metadata": {},
   "outputs": [],
   "source": [
    "#load data into batches\n",
    "trainloader = DataLoader(trainset,batch_size=32, shuffle=True) #mini-batch of 32\n",
    "testloader = DataLoader(testset,batch_size=1, shuffle=True)"
   ]
  },
  {
   "cell_type": "markdown",
   "metadata": {},
   "source": [
    "## Step 3. Autoencoder model"
   ]
  },
  {
   "cell_type": "code",
   "execution_count": 10,
   "metadata": {},
   "outputs": [],
   "source": [
    "class DAE(nn.Module):\n",
    "    \"\"\"Defines the Denoising Autoencoder model\"\"\"\n",
    "    def __init__(self, image_size=(28, 28), fc1=256, fc2=128, bottleneck=64):\n",
    "        \"\"\"\n",
    "        Initialize encoder and decoder model.\n",
    "        @Param: \n",
    "        1. image_size: height and width of input image, tuple (m, n), where m is height and n is width.\n",
    "        2. fc1: number of hidden units for first fully connected layer.\n",
    "        3. fc2: number of hidden units for second fully connected layer.\n",
    "        4. bottleneck: number of hidden units for bottleneck (codes) layer.\n",
    "        \"\"\"\n",
    "        super(DAE, self).__init__()\n",
    "        m, n = image_size\n",
    "        self.encoder = nn.Sequential(\n",
    "                  nn.Linear(m * n, fc1),\n",
    "                  nn.ReLU(True),\n",
    "                  nn.Linear(fc1, fc2),\n",
    "                  nn.ReLU(True),\n",
    "                  nn.Linear(fc2, bottleneck),\n",
    "                  nn.ReLU(True)\n",
    "                  )\n",
    "        #build decoder as reconstruction filter.\n",
    "        self.decoder = nn.Sequential(\n",
    "                      nn.Linear(bottleneck, fc2),\n",
    "                      nn.ReLU(True),\n",
    "                      nn.Linear(fc2, fc1),\n",
    "                      nn.ReLU(True),\n",
    "                      nn.Linear(fc1, m * n),\n",
    "                      nn.Sigmoid(),\n",
    "                      )\n",
    "        \n",
    "    def forward(self, x):\n",
    "        \"\"\"Override forward pass by incorporating encoder and decoder network architecture\"\"\"\n",
    "        x = self.encoder(x) #compress image\n",
    "        x = self.decoder(x) #reconstruction\n",
    "        return x"
   ]
  },
  {
   "cell_type": "code",
   "execution_count": 11,
   "metadata": {},
   "outputs": [],
   "source": [
    "#Enable cuda if available\n",
    "device = torch.device(\"cuda:0\" if torch.cuda.is_available() else \"cpu\")"
   ]
  },
  {
   "cell_type": "code",
   "execution_count": 12,
   "metadata": {},
   "outputs": [],
   "source": [
    "model = DAE()\n",
    "# according to paper, lossy image compression with compressive autoencoders (https://arxiv.org/pdf/1703.00395.pdf)\n",
    "# they used MSE loss as a measure of distortion b/w reconstruction and original image\n",
    "### Note that original image ≠ input image.\n",
    "loss = nn.MSELoss()\n",
    "# paper uses Adam optimizer for regularization with default Adam hyperparameters. keeping it as is for now.\n",
    "optimizer = optim.Adam(model.parameters())"
   ]
  },
  {
   "cell_type": "markdown",
   "metadata": {},
   "source": [
    "## Step 4. Training the model"
   ]
  },
  {
   "cell_type": "code",
   "execution_count": 13,
   "metadata": {},
   "outputs": [],
   "source": [
    "def train(feature_matrix, epochs=int(1e2), epsilon=0.5):\n",
    "    \"\"\"\n",
    "    Trains Autoencoder based on noisy images and corresponding labels\n",
    "    @Param:\n",
    "    1. feature_matrix: (nd.array) tuple representing (noisy_images, original_images).\n",
    "    2. epochs: (int) number of iterations\n",
    "    3. epsilon: (float) stopping condition\n",
    "    \"\"\"\n",
    "    cost = []\n",
    "    for epoch in range(epochs):\n",
    "        running_loss = 0\n",
    "        \n",
    "        temp = round(cost[-1], 5) if len(cost) > 0 else None\n",
    "        print(r\"Epoch : \" + str(epoch + 1) + \"; Loss = \" + str(temp), end=\"\")\n",
    "        \n",
    "        for dirty, clean, label in tqdm((feature_matrix)):\n",
    "            dirty = dirty.view(dirty.size(0), -1).type(torch.FloatTensor).to(device)\n",
    "            clean = clean.view(clean.size(0), -1).type(torch.FloatTensor).to(device)\n",
    "            \n",
    "            output = model(dirty) #get output from forward pass.\n",
    "            loss_output = loss(output, clean) #generate MSE error\n",
    "            \n",
    "            optimizer.zero_grad() #clean gradients\n",
    "            loss_output.backward() #backprop\n",
    "            optimizer.step()\n",
    "            \n",
    "            running_loss += loss_output.item()\n",
    "        \n",
    "        #append costs\n",
    "        cost.append(running_loss)\n",
    "        \n",
    "        if(running_loss < epsilon):\n",
    "            break\n",
    "\n",
    "    return cost"
   ]
  },
  {
   "cell_type": "code",
   "execution_count": 14,
   "metadata": {
    "scrolled": true
   },
   "outputs": [
    {
     "name": "stderr",
     "output_type": "stream",
     "text": [
      "  1%|▏         | 24/1875 [00:00<00:07, 234.80it/s]"
     ]
    },
    {
     "name": "stdout",
     "output_type": "stream",
     "text": [
      "Epoch : 1; Loss = None"
     ]
    },
    {
     "name": "stderr",
     "output_type": "stream",
     "text": [
      "100%|██████████| 1875/1875 [00:11<00:00, 167.31it/s]\n",
      "  1%|          | 14/1875 [00:00<00:13, 136.90it/s]"
     ]
    },
    {
     "name": "stdout",
     "output_type": "stream",
     "text": [
      "Epoch : 2; Loss = 37.67438"
     ]
    },
    {
     "name": "stderr",
     "output_type": "stream",
     "text": [
      "100%|██████████| 1875/1875 [00:13<00:00, 138.17it/s]\n",
      "  1%|          | 14/1875 [00:00<00:13, 134.66it/s]"
     ]
    },
    {
     "name": "stdout",
     "output_type": "stream",
     "text": [
      "Epoch : 3; Loss = 21.20894"
     ]
    },
    {
     "name": "stderr",
     "output_type": "stream",
     "text": [
      "100%|██████████| 1875/1875 [00:14<00:00, 132.02it/s]\n",
      "  1%|          | 13/1875 [00:00<00:14, 128.40it/s]"
     ]
    },
    {
     "name": "stdout",
     "output_type": "stream",
     "text": [
      "Epoch : 4; Loss = 18.27006"
     ]
    },
    {
     "name": "stderr",
     "output_type": "stream",
     "text": [
      "100%|██████████| 1875/1875 [00:14<00:00, 129.53it/s]\n",
      "  1%|          | 13/1875 [00:00<00:14, 128.52it/s]"
     ]
    },
    {
     "name": "stdout",
     "output_type": "stream",
     "text": [
      "Epoch : 5; Loss = 16.76273"
     ]
    },
    {
     "name": "stderr",
     "output_type": "stream",
     "text": [
      "100%|██████████| 1875/1875 [00:14<00:00, 128.22it/s]\n",
      "  1%|          | 13/1875 [00:00<00:15, 122.79it/s]"
     ]
    },
    {
     "name": "stdout",
     "output_type": "stream",
     "text": [
      "Epoch : 6; Loss = 15.9315"
     ]
    },
    {
     "name": "stderr",
     "output_type": "stream",
     "text": [
      "100%|██████████| 1875/1875 [00:14<00:00, 130.05it/s]\n",
      "  1%|          | 13/1875 [00:00<00:15, 124.11it/s]"
     ]
    },
    {
     "name": "stdout",
     "output_type": "stream",
     "text": [
      "Epoch : 7; Loss = 15.30465"
     ]
    },
    {
     "name": "stderr",
     "output_type": "stream",
     "text": [
      "100%|██████████| 1875/1875 [00:14<00:00, 132.50it/s]\n",
      "  1%|          | 13/1875 [00:00<00:14, 128.91it/s]"
     ]
    },
    {
     "name": "stdout",
     "output_type": "stream",
     "text": [
      "Epoch : 8; Loss = 14.95471"
     ]
    },
    {
     "name": "stderr",
     "output_type": "stream",
     "text": [
      "100%|██████████| 1875/1875 [00:14<00:00, 132.77it/s]\n",
      "  1%|          | 14/1875 [00:00<00:14, 131.11it/s]"
     ]
    },
    {
     "name": "stdout",
     "output_type": "stream",
     "text": [
      "Epoch : 9; Loss = 14.49105"
     ]
    },
    {
     "name": "stderr",
     "output_type": "stream",
     "text": [
      "100%|██████████| 1875/1875 [00:14<00:00, 132.28it/s]\n",
      "  1%|          | 13/1875 [00:00<00:14, 127.06it/s]"
     ]
    },
    {
     "name": "stdout",
     "output_type": "stream",
     "text": [
      "Epoch : 10; Loss = 14.21912"
     ]
    },
    {
     "name": "stderr",
     "output_type": "stream",
     "text": [
      "100%|██████████| 1875/1875 [00:14<00:00, 126.95it/s]\n",
      "  1%|          | 12/1875 [00:00<00:15, 119.71it/s]"
     ]
    },
    {
     "name": "stdout",
     "output_type": "stream",
     "text": [
      "Epoch : 11; Loss = 13.88197"
     ]
    },
    {
     "name": "stderr",
     "output_type": "stream",
     "text": [
      "100%|██████████| 1875/1875 [00:15<00:00, 120.60it/s]\n",
      "  1%|          | 12/1875 [00:00<00:16, 115.85it/s]"
     ]
    },
    {
     "name": "stdout",
     "output_type": "stream",
     "text": [
      "Epoch : 12; Loss = 13.73022"
     ]
    },
    {
     "name": "stderr",
     "output_type": "stream",
     "text": [
      "100%|██████████| 1875/1875 [00:15<00:00, 121.61it/s]\n",
      "  1%|          | 13/1875 [00:00<00:14, 126.24it/s]"
     ]
    },
    {
     "name": "stdout",
     "output_type": "stream",
     "text": [
      "Epoch : 13; Loss = 13.57966"
     ]
    },
    {
     "name": "stderr",
     "output_type": "stream",
     "text": [
      "100%|██████████| 1875/1875 [00:14<00:00, 127.10it/s]\n",
      "  1%|          | 13/1875 [00:00<00:14, 128.81it/s]"
     ]
    },
    {
     "name": "stdout",
     "output_type": "stream",
     "text": [
      "Epoch : 14; Loss = 13.36793"
     ]
    },
    {
     "name": "stderr",
     "output_type": "stream",
     "text": [
      "100%|██████████| 1875/1875 [00:14<00:00, 127.24it/s]\n",
      "  1%|          | 13/1875 [00:00<00:15, 121.64it/s]"
     ]
    },
    {
     "name": "stdout",
     "output_type": "stream",
     "text": [
      "Epoch : 15; Loss = 13.14203"
     ]
    },
    {
     "name": "stderr",
     "output_type": "stream",
     "text": [
      "100%|██████████| 1875/1875 [00:14<00:00, 127.37it/s]\n",
      "  1%|          | 13/1875 [00:00<00:14, 124.89it/s]"
     ]
    },
    {
     "name": "stdout",
     "output_type": "stream",
     "text": [
      "Epoch : 16; Loss = 13.03378"
     ]
    },
    {
     "name": "stderr",
     "output_type": "stream",
     "text": [
      "100%|██████████| 1875/1875 [00:15<00:00, 123.23it/s]\n",
      "  1%|          | 13/1875 [00:00<00:14, 124.30it/s]"
     ]
    },
    {
     "name": "stdout",
     "output_type": "stream",
     "text": [
      "Epoch : 17; Loss = 12.87936"
     ]
    },
    {
     "name": "stderr",
     "output_type": "stream",
     "text": [
      "100%|██████████| 1875/1875 [00:14<00:00, 125.95it/s]\n",
      "  1%|          | 13/1875 [00:00<00:15, 122.62it/s]"
     ]
    },
    {
     "name": "stdout",
     "output_type": "stream",
     "text": [
      "Epoch : 18; Loss = 12.7764"
     ]
    },
    {
     "name": "stderr",
     "output_type": "stream",
     "text": [
      "100%|██████████| 1875/1875 [00:14<00:00, 128.33it/s]\n",
      "  1%|          | 13/1875 [00:00<00:14, 124.99it/s]"
     ]
    },
    {
     "name": "stdout",
     "output_type": "stream",
     "text": [
      "Epoch : 19; Loss = 12.68356"
     ]
    },
    {
     "name": "stderr",
     "output_type": "stream",
     "text": [
      "100%|██████████| 1875/1875 [00:14<00:00, 128.44it/s]\n",
      "  1%|          | 13/1875 [00:00<00:15, 122.54it/s]"
     ]
    },
    {
     "name": "stdout",
     "output_type": "stream",
     "text": [
      "Epoch : 20; Loss = 12.58931"
     ]
    },
    {
     "name": "stderr",
     "output_type": "stream",
     "text": [
      "100%|██████████| 1875/1875 [00:14<00:00, 127.82it/s]\n",
      "  1%|          | 13/1875 [00:00<00:15, 122.89it/s]"
     ]
    },
    {
     "name": "stdout",
     "output_type": "stream",
     "text": [
      "Epoch : 21; Loss = 12.49711"
     ]
    },
    {
     "name": "stderr",
     "output_type": "stream",
     "text": [
      "100%|██████████| 1875/1875 [00:15<00:00, 124.76it/s]\n",
      "  1%|          | 13/1875 [00:00<00:15, 123.79it/s]"
     ]
    },
    {
     "name": "stdout",
     "output_type": "stream",
     "text": [
      "Epoch : 22; Loss = 12.42528"
     ]
    },
    {
     "name": "stderr",
     "output_type": "stream",
     "text": [
      "100%|██████████| 1875/1875 [00:15<00:00, 121.90it/s]\n",
      "  1%|          | 13/1875 [00:00<00:15, 123.18it/s]"
     ]
    },
    {
     "name": "stdout",
     "output_type": "stream",
     "text": [
      "Epoch : 23; Loss = 12.30704"
     ]
    },
    {
     "name": "stderr",
     "output_type": "stream",
     "text": [
      "100%|██████████| 1875/1875 [00:15<00:00, 121.29it/s]\n",
      "  1%|          | 12/1875 [00:00<00:15, 119.95it/s]"
     ]
    },
    {
     "name": "stdout",
     "output_type": "stream",
     "text": [
      "Epoch : 24; Loss = 12.32914"
     ]
    },
    {
     "name": "stderr",
     "output_type": "stream",
     "text": [
      "100%|██████████| 1875/1875 [00:15<00:00, 117.56it/s]\n",
      "  1%|          | 12/1875 [00:00<00:15, 116.85it/s]"
     ]
    },
    {
     "name": "stdout",
     "output_type": "stream",
     "text": [
      "Epoch : 25; Loss = 12.20854"
     ]
    },
    {
     "name": "stderr",
     "output_type": "stream",
     "text": [
      "100%|██████████| 1875/1875 [00:15<00:00, 121.95it/s]\n",
      "  1%|          | 12/1875 [00:00<00:15, 118.82it/s]"
     ]
    },
    {
     "name": "stdout",
     "output_type": "stream",
     "text": [
      "Epoch : 26; Loss = 12.16263"
     ]
    },
    {
     "name": "stderr",
     "output_type": "stream",
     "text": [
      "100%|██████████| 1875/1875 [00:15<00:00, 122.91it/s]\n",
      "  1%|          | 13/1875 [00:00<00:15, 121.97it/s]"
     ]
    },
    {
     "name": "stdout",
     "output_type": "stream",
     "text": [
      "Epoch : 27; Loss = 12.09141"
     ]
    },
    {
     "name": "stderr",
     "output_type": "stream",
     "text": [
      "100%|██████████| 1875/1875 [00:15<00:00, 122.10it/s]\n",
      "  1%|          | 12/1875 [00:00<00:15, 119.02it/s]"
     ]
    },
    {
     "name": "stdout",
     "output_type": "stream",
     "text": [
      "Epoch : 28; Loss = 12.10041"
     ]
    },
    {
     "name": "stderr",
     "output_type": "stream",
     "text": [
      "100%|██████████| 1875/1875 [00:16<00:00, 116.62it/s]\n",
      "  1%|          | 12/1875 [00:00<00:16, 113.11it/s]"
     ]
    },
    {
     "name": "stdout",
     "output_type": "stream",
     "text": [
      "Epoch : 29; Loss = 12.01495"
     ]
    },
    {
     "name": "stderr",
     "output_type": "stream",
     "text": [
      "100%|██████████| 1875/1875 [00:16<00:00, 113.53it/s]\n",
      "  1%|          | 12/1875 [00:00<00:16, 111.68it/s]"
     ]
    },
    {
     "name": "stdout",
     "output_type": "stream",
     "text": [
      "Epoch : 30; Loss = 11.9896"
     ]
    },
    {
     "name": "stderr",
     "output_type": "stream",
     "text": [
      "100%|██████████| 1875/1875 [00:17<00:00, 107.86it/s]\n",
      "  1%|          | 10/1875 [00:00<00:18, 98.46it/s]"
     ]
    },
    {
     "name": "stdout",
     "output_type": "stream",
     "text": [
      "Epoch : 31; Loss = 11.94174"
     ]
    },
    {
     "name": "stderr",
     "output_type": "stream",
     "text": [
      "100%|██████████| 1875/1875 [00:18<00:00, 101.81it/s]\n",
      "  1%|          | 11/1875 [00:00<00:18, 101.95it/s]"
     ]
    },
    {
     "name": "stdout",
     "output_type": "stream",
     "text": [
      "Epoch : 32; Loss = 11.9182"
     ]
    },
    {
     "name": "stderr",
     "output_type": "stream",
     "text": [
      "100%|██████████| 1875/1875 [00:18<00:00, 100.07it/s]\n",
      "  1%|          | 10/1875 [00:00<00:19, 96.48it/s]"
     ]
    },
    {
     "name": "stdout",
     "output_type": "stream",
     "text": [
      "Epoch : 33; Loss = 11.88744"
     ]
    },
    {
     "name": "stderr",
     "output_type": "stream",
     "text": [
      "100%|██████████| 1875/1875 [00:19<00:00, 94.58it/s]\n",
      "  0%|          | 9/1875 [00:00<00:21, 88.41it/s]"
     ]
    },
    {
     "name": "stdout",
     "output_type": "stream",
     "text": [
      "Epoch : 34; Loss = 11.7793"
     ]
    },
    {
     "name": "stderr",
     "output_type": "stream",
     "text": [
      "100%|██████████| 1875/1875 [00:21<00:00, 89.21it/s]\n",
      "  0%|          | 9/1875 [00:00<00:21, 88.60it/s]"
     ]
    },
    {
     "name": "stdout",
     "output_type": "stream",
     "text": [
      "Epoch : 35; Loss = 11.81262"
     ]
    },
    {
     "name": "stderr",
     "output_type": "stream",
     "text": [
      "100%|██████████| 1875/1875 [00:22<00:00, 83.20it/s]\n",
      "  0%|          | 8/1875 [00:00<00:24, 76.89it/s]"
     ]
    },
    {
     "name": "stdout",
     "output_type": "stream",
     "text": [
      "Epoch : 36; Loss = 11.7931"
     ]
    },
    {
     "name": "stderr",
     "output_type": "stream",
     "text": [
      "100%|██████████| 1875/1875 [00:23<00:00, 80.26it/s]\n",
      "  0%|          | 9/1875 [00:00<00:23, 80.64it/s]"
     ]
    },
    {
     "name": "stdout",
     "output_type": "stream",
     "text": [
      "Epoch : 37; Loss = 11.70966"
     ]
    },
    {
     "name": "stderr",
     "output_type": "stream",
     "text": [
      "100%|██████████| 1875/1875 [00:22<00:00, 82.70it/s]\n",
      "  0%|          | 9/1875 [00:00<00:22, 84.69it/s]"
     ]
    },
    {
     "name": "stdout",
     "output_type": "stream",
     "text": [
      "Epoch : 38; Loss = 11.72873"
     ]
    },
    {
     "name": "stderr",
     "output_type": "stream",
     "text": [
      "100%|██████████| 1875/1875 [00:24<00:00, 77.31it/s]\n",
      "  0%|          | 7/1875 [00:00<00:26, 69.78it/s]"
     ]
    },
    {
     "name": "stdout",
     "output_type": "stream",
     "text": [
      "Epoch : 39; Loss = 11.68613"
     ]
    },
    {
     "name": "stderr",
     "output_type": "stream",
     "text": [
      "100%|██████████| 1875/1875 [00:24<00:00, 77.72it/s]\n",
      "  0%|          | 8/1875 [00:00<00:24, 76.66it/s]"
     ]
    },
    {
     "name": "stdout",
     "output_type": "stream",
     "text": [
      "Epoch : 40; Loss = 11.62698"
     ]
    },
    {
     "name": "stderr",
     "output_type": "stream",
     "text": [
      "100%|██████████| 1875/1875 [00:24<00:00, 78.09it/s]\n",
      "  0%|          | 9/1875 [00:00<00:22, 82.42it/s]"
     ]
    },
    {
     "name": "stdout",
     "output_type": "stream",
     "text": [
      "Epoch : 41; Loss = 11.63048"
     ]
    },
    {
     "name": "stderr",
     "output_type": "stream",
     "text": [
      "100%|██████████| 1875/1875 [00:23<00:00, 80.64it/s]\n",
      "  0%|          | 9/1875 [00:00<00:22, 82.84it/s]"
     ]
    },
    {
     "name": "stdout",
     "output_type": "stream",
     "text": [
      "Epoch : 42; Loss = 11.58832"
     ]
    },
    {
     "name": "stderr",
     "output_type": "stream",
     "text": [
      "100%|██████████| 1875/1875 [00:23<00:00, 81.38it/s]\n",
      "  0%|          | 8/1875 [00:00<00:23, 78.14it/s]"
     ]
    },
    {
     "name": "stdout",
     "output_type": "stream",
     "text": [
      "Epoch : 43; Loss = 11.55387"
     ]
    },
    {
     "name": "stderr",
     "output_type": "stream",
     "text": [
      "100%|██████████| 1875/1875 [00:24<00:00, 77.73it/s]\n",
      "  0%|          | 8/1875 [00:00<00:23, 77.92it/s]"
     ]
    },
    {
     "name": "stdout",
     "output_type": "stream",
     "text": [
      "Epoch : 44; Loss = 11.53494"
     ]
    },
    {
     "name": "stderr",
     "output_type": "stream",
     "text": [
      "100%|██████████| 1875/1875 [00:24<00:00, 76.35it/s]\n",
      "  0%|          | 8/1875 [00:00<00:23, 79.52it/s]"
     ]
    },
    {
     "name": "stdout",
     "output_type": "stream",
     "text": [
      "Epoch : 45; Loss = 11.51586"
     ]
    },
    {
     "name": "stderr",
     "output_type": "stream",
     "text": [
      "100%|██████████| 1875/1875 [00:23<00:00, 79.87it/s]\n",
      "  0%|          | 9/1875 [00:00<00:23, 80.91it/s]"
     ]
    },
    {
     "name": "stdout",
     "output_type": "stream",
     "text": [
      "Epoch : 46; Loss = 11.51677"
     ]
    },
    {
     "name": "stderr",
     "output_type": "stream",
     "text": [
      "100%|██████████| 1875/1875 [00:23<00:00, 78.41it/s]\n",
      "  0%|          | 8/1875 [00:00<00:26, 71.74it/s]"
     ]
    },
    {
     "name": "stdout",
     "output_type": "stream",
     "text": [
      "Epoch : 47; Loss = 11.5023"
     ]
    },
    {
     "name": "stderr",
     "output_type": "stream",
     "text": [
      "100%|██████████| 1875/1875 [00:23<00:00, 81.34it/s]\n",
      "  0%|          | 8/1875 [00:00<00:23, 79.65it/s]"
     ]
    },
    {
     "name": "stdout",
     "output_type": "stream",
     "text": [
      "Epoch : 48; Loss = 11.44744"
     ]
    },
    {
     "name": "stderr",
     "output_type": "stream",
     "text": [
      "100%|██████████| 1875/1875 [00:23<00:00, 80.41it/s]\n",
      "  0%|          | 9/1875 [00:00<00:22, 82.76it/s]"
     ]
    },
    {
     "name": "stdout",
     "output_type": "stream",
     "text": [
      "Epoch : 49; Loss = 11.44584"
     ]
    },
    {
     "name": "stderr",
     "output_type": "stream",
     "text": [
      "100%|██████████| 1875/1875 [00:23<00:00, 79.92it/s]\n",
      "  0%|          | 9/1875 [00:00<00:23, 80.63it/s]"
     ]
    },
    {
     "name": "stdout",
     "output_type": "stream",
     "text": [
      "Epoch : 50; Loss = 11.44047"
     ]
    },
    {
     "name": "stderr",
     "output_type": "stream",
     "text": [
      "100%|██████████| 1875/1875 [00:23<00:00, 79.19it/s]\n",
      "  0%|          | 9/1875 [00:00<00:23, 80.89it/s]"
     ]
    },
    {
     "name": "stdout",
     "output_type": "stream",
     "text": [
      "Epoch : 51; Loss = 11.383"
     ]
    },
    {
     "name": "stderr",
     "output_type": "stream",
     "text": [
      "100%|██████████| 1875/1875 [00:24<00:00, 76.39it/s]\n",
      "  0%|          | 8/1875 [00:00<00:23, 78.35it/s]"
     ]
    },
    {
     "name": "stdout",
     "output_type": "stream",
     "text": [
      "Epoch : 52; Loss = 11.41572"
     ]
    },
    {
     "name": "stderr",
     "output_type": "stream",
     "text": [
      "100%|██████████| 1875/1875 [00:25<00:00, 73.54it/s]\n",
      "  0%|          | 8/1875 [00:00<00:23, 78.07it/s]"
     ]
    },
    {
     "name": "stdout",
     "output_type": "stream",
     "text": [
      "Epoch : 53; Loss = 11.42391"
     ]
    },
    {
     "name": "stderr",
     "output_type": "stream",
     "text": [
      "100%|██████████| 1875/1875 [00:24<00:00, 75.78it/s]\n",
      "  0%|          | 8/1875 [00:00<00:24, 77.34it/s]"
     ]
    },
    {
     "name": "stdout",
     "output_type": "stream",
     "text": [
      "Epoch : 54; Loss = 11.30886"
     ]
    },
    {
     "name": "stderr",
     "output_type": "stream",
     "text": [
      "100%|██████████| 1875/1875 [00:24<00:00, 77.53it/s]\n",
      "  0%|          | 8/1875 [00:00<00:23, 78.27it/s]"
     ]
    },
    {
     "name": "stdout",
     "output_type": "stream",
     "text": [
      "Epoch : 55; Loss = 11.35357"
     ]
    },
    {
     "name": "stderr",
     "output_type": "stream",
     "text": [
      "100%|██████████| 1875/1875 [00:24<00:00, 77.40it/s]\n",
      "  0%|          | 8/1875 [00:00<00:26, 70.90it/s]"
     ]
    },
    {
     "name": "stdout",
     "output_type": "stream",
     "text": [
      "Epoch : 56; Loss = 11.33105"
     ]
    },
    {
     "name": "stderr",
     "output_type": "stream",
     "text": [
      "100%|██████████| 1875/1875 [00:25<00:00, 72.59it/s]\n",
      "  0%|          | 8/1875 [00:00<00:24, 75.42it/s]"
     ]
    },
    {
     "name": "stdout",
     "output_type": "stream",
     "text": [
      "Epoch : 57; Loss = 11.31991"
     ]
    },
    {
     "name": "stderr",
     "output_type": "stream",
     "text": [
      "100%|██████████| 1875/1875 [00:24<00:00, 75.41it/s]\n",
      "  0%|          | 8/1875 [00:00<00:24, 77.35it/s]"
     ]
    },
    {
     "name": "stdout",
     "output_type": "stream",
     "text": [
      "Epoch : 58; Loss = 11.27686"
     ]
    },
    {
     "name": "stderr",
     "output_type": "stream",
     "text": [
      "100%|██████████| 1875/1875 [00:23<00:00, 80.87it/s]\n",
      "  0%|          | 9/1875 [00:00<00:22, 82.64it/s]"
     ]
    },
    {
     "name": "stdout",
     "output_type": "stream",
     "text": [
      "Epoch : 59; Loss = 11.29313"
     ]
    },
    {
     "name": "stderr",
     "output_type": "stream",
     "text": [
      "100%|██████████| 1875/1875 [00:23<00:00, 80.81it/s]\n",
      "  0%|          | 9/1875 [00:00<00:23, 80.11it/s]"
     ]
    },
    {
     "name": "stdout",
     "output_type": "stream",
     "text": [
      "Epoch : 60; Loss = 11.23132"
     ]
    },
    {
     "name": "stderr",
     "output_type": "stream",
     "text": [
      "100%|██████████| 1875/1875 [00:24<00:00, 77.49it/s]\n",
      "  0%|          | 8/1875 [00:00<00:24, 76.44it/s]"
     ]
    },
    {
     "name": "stdout",
     "output_type": "stream",
     "text": [
      "Epoch : 61; Loss = 11.27431"
     ]
    },
    {
     "name": "stderr",
     "output_type": "stream",
     "text": [
      "100%|██████████| 1875/1875 [00:24<00:00, 77.90it/s]\n",
      "  0%|          | 9/1875 [00:00<00:23, 80.81it/s]"
     ]
    },
    {
     "name": "stdout",
     "output_type": "stream",
     "text": [
      "Epoch : 62; Loss = 11.26776"
     ]
    },
    {
     "name": "stderr",
     "output_type": "stream",
     "text": [
      "100%|██████████| 1875/1875 [00:23<00:00, 79.97it/s]\n",
      "  0%|          | 8/1875 [00:00<00:24, 75.41it/s]"
     ]
    },
    {
     "name": "stdout",
     "output_type": "stream",
     "text": [
      "Epoch : 63; Loss = 11.23568"
     ]
    },
    {
     "name": "stderr",
     "output_type": "stream",
     "text": [
      "100%|██████████| 1875/1875 [00:25<00:00, 73.24it/s]\n",
      "  0%|          | 8/1875 [00:00<00:25, 73.97it/s]"
     ]
    },
    {
     "name": "stdout",
     "output_type": "stream",
     "text": [
      "Epoch : 64; Loss = 11.24081"
     ]
    },
    {
     "name": "stderr",
     "output_type": "stream",
     "text": [
      "100%|██████████| 1875/1875 [00:25<00:00, 73.49it/s]\n",
      "  0%|          | 8/1875 [00:00<00:25, 73.65it/s]"
     ]
    },
    {
     "name": "stdout",
     "output_type": "stream",
     "text": [
      "Epoch : 65; Loss = 11.22255"
     ]
    },
    {
     "name": "stderr",
     "output_type": "stream",
     "text": [
      "100%|██████████| 1875/1875 [00:25<00:00, 74.55it/s]\n",
      "  0%|          | 8/1875 [00:00<00:25, 72.77it/s]"
     ]
    },
    {
     "name": "stdout",
     "output_type": "stream",
     "text": [
      "Epoch : 66; Loss = 11.22271"
     ]
    },
    {
     "name": "stderr",
     "output_type": "stream",
     "text": [
      "100%|██████████| 1875/1875 [00:24<00:00, 75.51it/s]\n",
      "  0%|          | 8/1875 [00:00<00:24, 75.85it/s]"
     ]
    },
    {
     "name": "stdout",
     "output_type": "stream",
     "text": [
      "Epoch : 67; Loss = 11.16585"
     ]
    },
    {
     "name": "stderr",
     "output_type": "stream",
     "text": [
      "100%|██████████| 1875/1875 [00:24<00:00, 75.80it/s]\n",
      "  0%|          | 8/1875 [00:00<00:24, 75.57it/s]"
     ]
    },
    {
     "name": "stdout",
     "output_type": "stream",
     "text": [
      "Epoch : 68; Loss = 11.21352"
     ]
    },
    {
     "name": "stderr",
     "output_type": "stream",
     "text": [
      "100%|██████████| 1875/1875 [00:24<00:00, 75.11it/s]\n",
      "  0%|          | 8/1875 [00:00<00:24, 77.43it/s]"
     ]
    },
    {
     "name": "stdout",
     "output_type": "stream",
     "text": [
      "Epoch : 69; Loss = 11.16067"
     ]
    },
    {
     "name": "stderr",
     "output_type": "stream",
     "text": [
      "100%|██████████| 1875/1875 [00:24<00:00, 76.77it/s]\n",
      "  0%|          | 8/1875 [00:00<00:24, 75.73it/s]"
     ]
    },
    {
     "name": "stdout",
     "output_type": "stream",
     "text": [
      "Epoch : 70; Loss = 11.12938"
     ]
    },
    {
     "name": "stderr",
     "output_type": "stream",
     "text": [
      "100%|██████████| 1875/1875 [00:23<00:00, 79.37it/s]\n",
      "  0%|          | 8/1875 [00:00<00:24, 75.27it/s]"
     ]
    },
    {
     "name": "stdout",
     "output_type": "stream",
     "text": [
      "Epoch : 71; Loss = 11.16803"
     ]
    },
    {
     "name": "stderr",
     "output_type": "stream",
     "text": [
      "100%|██████████| 1875/1875 [00:24<00:00, 77.03it/s]\n",
      "  0%|          | 8/1875 [00:00<00:26, 71.21it/s]"
     ]
    },
    {
     "name": "stdout",
     "output_type": "stream",
     "text": [
      "Epoch : 72; Loss = 11.11882"
     ]
    },
    {
     "name": "stderr",
     "output_type": "stream",
     "text": [
      "100%|██████████| 1875/1875 [00:25<00:00, 74.84it/s]\n",
      "  0%|          | 8/1875 [00:00<00:25, 74.67it/s]"
     ]
    },
    {
     "name": "stdout",
     "output_type": "stream",
     "text": [
      "Epoch : 73; Loss = 11.11427"
     ]
    },
    {
     "name": "stderr",
     "output_type": "stream",
     "text": [
      "100%|██████████| 1875/1875 [00:24<00:00, 78.00it/s]\n",
      "  0%|          | 8/1875 [00:00<00:25, 74.20it/s]"
     ]
    },
    {
     "name": "stdout",
     "output_type": "stream",
     "text": [
      "Epoch : 74; Loss = 11.08968"
     ]
    },
    {
     "name": "stderr",
     "output_type": "stream",
     "text": [
      "100%|██████████| 1875/1875 [00:24<00:00, 75.16it/s]\n",
      "  0%|          | 8/1875 [00:00<00:24, 75.08it/s]"
     ]
    },
    {
     "name": "stdout",
     "output_type": "stream",
     "text": [
      "Epoch : 75; Loss = 11.05277"
     ]
    },
    {
     "name": "stderr",
     "output_type": "stream",
     "text": [
      "100%|██████████| 1875/1875 [00:25<00:00, 74.87it/s]\n",
      "  0%|          | 8/1875 [00:00<00:24, 76.35it/s]"
     ]
    },
    {
     "name": "stdout",
     "output_type": "stream",
     "text": [
      "Epoch : 76; Loss = 11.04572"
     ]
    },
    {
     "name": "stderr",
     "output_type": "stream",
     "text": [
      "100%|██████████| 1875/1875 [00:23<00:00, 78.86it/s]\n",
      "  0%|          | 9/1875 [00:00<00:23, 81.11it/s]"
     ]
    },
    {
     "name": "stdout",
     "output_type": "stream",
     "text": [
      "Epoch : 77; Loss = 11.09526"
     ]
    },
    {
     "name": "stderr",
     "output_type": "stream",
     "text": [
      "100%|██████████| 1875/1875 [00:23<00:00, 79.73it/s]\n",
      "  0%|          | 8/1875 [00:00<00:23, 78.68it/s]"
     ]
    },
    {
     "name": "stdout",
     "output_type": "stream",
     "text": [
      "Epoch : 78; Loss = 11.00892"
     ]
    },
    {
     "name": "stderr",
     "output_type": "stream",
     "text": [
      "100%|██████████| 1875/1875 [00:24<00:00, 77.85it/s]\n",
      "  0%|          | 8/1875 [00:00<00:24, 76.68it/s]"
     ]
    },
    {
     "name": "stdout",
     "output_type": "stream",
     "text": [
      "Epoch : 79; Loss = 11.04016"
     ]
    },
    {
     "name": "stderr",
     "output_type": "stream",
     "text": [
      "100%|██████████| 1875/1875 [00:24<00:00, 77.12it/s]\n",
      "  0%|          | 8/1875 [00:00<00:23, 78.04it/s]"
     ]
    },
    {
     "name": "stdout",
     "output_type": "stream",
     "text": [
      "Epoch : 80; Loss = 11.01291"
     ]
    },
    {
     "name": "stderr",
     "output_type": "stream",
     "text": [
      "100%|██████████| 1875/1875 [00:25<00:00, 74.43it/s]\n",
      "  0%|          | 8/1875 [00:00<00:24, 76.34it/s]"
     ]
    },
    {
     "name": "stdout",
     "output_type": "stream",
     "text": [
      "Epoch : 81; Loss = 10.96124"
     ]
    },
    {
     "name": "stderr",
     "output_type": "stream",
     "text": [
      "100%|██████████| 1875/1875 [00:24<00:00, 75.83it/s]\n",
      "  0%|          | 9/1875 [00:00<00:23, 80.85it/s]"
     ]
    },
    {
     "name": "stdout",
     "output_type": "stream",
     "text": [
      "Epoch : 82; Loss = 10.99196"
     ]
    },
    {
     "name": "stderr",
     "output_type": "stream",
     "text": [
      "100%|██████████| 1875/1875 [00:24<00:00, 77.85it/s]\n",
      "  0%|          | 8/1875 [00:00<00:23, 78.27it/s]"
     ]
    },
    {
     "name": "stdout",
     "output_type": "stream",
     "text": [
      "Epoch : 83; Loss = 10.95762"
     ]
    },
    {
     "name": "stderr",
     "output_type": "stream",
     "text": [
      "100%|██████████| 1875/1875 [00:24<00:00, 75.92it/s]\n",
      "  0%|          | 8/1875 [00:00<00:24, 74.84it/s]"
     ]
    },
    {
     "name": "stdout",
     "output_type": "stream",
     "text": [
      "Epoch : 84; Loss = 11.00117"
     ]
    },
    {
     "name": "stderr",
     "output_type": "stream",
     "text": [
      "100%|██████████| 1875/1875 [00:25<00:00, 72.21it/s]\n",
      "  0%|          | 8/1875 [00:00<00:25, 72.05it/s]"
     ]
    },
    {
     "name": "stdout",
     "output_type": "stream",
     "text": [
      "Epoch : 85; Loss = 10.97486"
     ]
    },
    {
     "name": "stderr",
     "output_type": "stream",
     "text": [
      "100%|██████████| 1875/1875 [00:24<00:00, 76.82it/s]\n",
      "  0%|          | 8/1875 [00:00<00:24, 75.84it/s]"
     ]
    },
    {
     "name": "stdout",
     "output_type": "stream",
     "text": [
      "Epoch : 86; Loss = 10.96191"
     ]
    },
    {
     "name": "stderr",
     "output_type": "stream",
     "text": [
      "100%|██████████| 1875/1875 [00:24<00:00, 75.34it/s]\n",
      "  0%|          | 8/1875 [00:00<00:25, 72.50it/s]"
     ]
    },
    {
     "name": "stdout",
     "output_type": "stream",
     "text": [
      "Epoch : 87; Loss = 11.0072"
     ]
    },
    {
     "name": "stderr",
     "output_type": "stream",
     "text": [
      "100%|██████████| 1875/1875 [00:25<00:00, 73.26it/s]\n",
      "  0%|          | 8/1875 [00:00<00:24, 76.98it/s]"
     ]
    },
    {
     "name": "stdout",
     "output_type": "stream",
     "text": [
      "Epoch : 88; Loss = 10.95007"
     ]
    },
    {
     "name": "stderr",
     "output_type": "stream",
     "text": [
      "100%|██████████| 1875/1875 [00:24<00:00, 75.49it/s]\n",
      "  0%|          | 8/1875 [00:00<00:25, 73.95it/s]"
     ]
    },
    {
     "name": "stdout",
     "output_type": "stream",
     "text": [
      "Epoch : 89; Loss = 10.95839"
     ]
    },
    {
     "name": "stderr",
     "output_type": "stream",
     "text": [
      "100%|██████████| 1875/1875 [00:25<00:00, 73.92it/s]\n",
      "  0%|          | 8/1875 [00:00<00:25, 72.73it/s]"
     ]
    },
    {
     "name": "stdout",
     "output_type": "stream",
     "text": [
      "Epoch : 90; Loss = 10.94755"
     ]
    },
    {
     "name": "stderr",
     "output_type": "stream",
     "text": [
      "100%|██████████| 1875/1875 [00:25<00:00, 73.74it/s]\n",
      "  0%|          | 8/1875 [00:00<00:24, 74.93it/s]"
     ]
    },
    {
     "name": "stdout",
     "output_type": "stream",
     "text": [
      "Epoch : 91; Loss = 10.98972"
     ]
    },
    {
     "name": "stderr",
     "output_type": "stream",
     "text": [
      "100%|██████████| 1875/1875 [00:24<00:00, 75.59it/s]\n",
      "  0%|          | 7/1875 [00:00<00:27, 67.34it/s]"
     ]
    },
    {
     "name": "stdout",
     "output_type": "stream",
     "text": [
      "Epoch : 92; Loss = 10.91616"
     ]
    },
    {
     "name": "stderr",
     "output_type": "stream",
     "text": [
      "100%|██████████| 1875/1875 [00:24<00:00, 75.54it/s]\n",
      "  0%|          | 7/1875 [00:00<00:28, 66.49it/s]"
     ]
    },
    {
     "name": "stdout",
     "output_type": "stream",
     "text": [
      "Epoch : 93; Loss = 10.94945"
     ]
    },
    {
     "name": "stderr",
     "output_type": "stream",
     "text": [
      "100%|██████████| 1875/1875 [00:25<00:00, 74.44it/s]\n",
      "  0%|          | 7/1875 [00:00<00:27, 68.38it/s]"
     ]
    },
    {
     "name": "stdout",
     "output_type": "stream",
     "text": [
      "Epoch : 94; Loss = 10.94252"
     ]
    },
    {
     "name": "stderr",
     "output_type": "stream",
     "text": [
      "100%|██████████| 1875/1875 [00:24<00:00, 77.71it/s]\n",
      "  0%|          | 8/1875 [00:00<00:23, 79.35it/s]"
     ]
    },
    {
     "name": "stdout",
     "output_type": "stream",
     "text": [
      "Epoch : 95; Loss = 10.88406"
     ]
    },
    {
     "name": "stderr",
     "output_type": "stream",
     "text": [
      "100%|██████████| 1875/1875 [00:23<00:00, 78.16it/s]\n",
      "  0%|          | 8/1875 [00:00<00:24, 77.46it/s]"
     ]
    },
    {
     "name": "stdout",
     "output_type": "stream",
     "text": [
      "Epoch : 96; Loss = 10.94299"
     ]
    },
    {
     "name": "stderr",
     "output_type": "stream",
     "text": [
      "100%|██████████| 1875/1875 [00:25<00:00, 73.65it/s]\n",
      "  0%|          | 8/1875 [00:00<00:25, 72.56it/s]"
     ]
    },
    {
     "name": "stdout",
     "output_type": "stream",
     "text": [
      "Epoch : 97; Loss = 10.8674"
     ]
    },
    {
     "name": "stderr",
     "output_type": "stream",
     "text": [
      "100%|██████████| 1875/1875 [00:25<00:00, 73.60it/s]\n",
      "  0%|          | 8/1875 [00:00<00:24, 75.85it/s]"
     ]
    },
    {
     "name": "stdout",
     "output_type": "stream",
     "text": [
      "Epoch : 98; Loss = 10.91851"
     ]
    },
    {
     "name": "stderr",
     "output_type": "stream",
     "text": [
      "100%|██████████| 1875/1875 [00:24<00:00, 76.82it/s]\n",
      "  0%|          | 8/1875 [00:00<00:24, 77.13it/s]"
     ]
    },
    {
     "name": "stdout",
     "output_type": "stream",
     "text": [
      "Epoch : 99; Loss = 10.87018"
     ]
    },
    {
     "name": "stderr",
     "output_type": "stream",
     "text": [
      "100%|██████████| 1875/1875 [00:24<00:00, 75.86it/s]\n",
      "  0%|          | 8/1875 [00:00<00:24, 75.05it/s]"
     ]
    },
    {
     "name": "stdout",
     "output_type": "stream",
     "text": [
      "Epoch : 100; Loss = 10.89856"
     ]
    },
    {
     "name": "stderr",
     "output_type": "stream",
     "text": [
      "100%|██████████| 1875/1875 [00:24<00:00, 75.97it/s]\n"
     ]
    }
   ],
   "source": [
    "cost = train(trainloader)"
   ]
  },
  {
   "cell_type": "code",
   "execution_count": 15,
   "metadata": {},
   "outputs": [
    {
     "data": {
      "image/png": "[encoded data removed]",
      "text/plain": [
       "<Figure size 432x288 with 1 Axes>"
      ]
     },
     "metadata": {
      "needs_background": "light"
     },
     "output_type": "display_data"
    }
   ],
   "source": [
    "plt.title(\"Loss per epoch\")\n",
    "plt.plot(cost)\n",
    "plt.show()"
   ]
  },
  {
   "cell_type": "markdown",
   "metadata": {},
   "source": [
    "## Step 5. Test model"
   ]
  },
  {
   "cell_type": "code",
   "execution_count": 223,
   "metadata": {},
   "outputs": [],
   "source": [
    "def test(feature_matrix):\n",
    "    \"\"\"Compresses images where feature_matrix represents noisy and original images\"\"\"\n",
    "    noisy, clean = feature_matrix\n",
    "    \n",
    "    compressed_images = [] #encoder\n",
    "    reconstructed_images = [] #autoencoder\n",
    "    \n",
    "    total_loss = 0\n",
    "    for img, c_img in tqdm(zip(noisy, clean)):\n",
    "        img = torch.from_numpy(img).float().squeeze(0).flatten().to(device)\n",
    "        c_img = torch.from_numpy(c_img).float().squeeze(0).flatten().to(device)\n",
    "        \n",
    "        #get compressed image from encoder part of network\n",
    "        compressed_output = model.encoder(img)\n",
    "        \n",
    "        output = model(img)\n",
    "        \n",
    "        loss_output = loss(output, c_img) #generate MSE error\n",
    "        \n",
    "        output = output.view(1,28,28)\n",
    "        output = output.permute(1,2,0).squeeze(2)\n",
    "        output = output.detach().cpu().numpy()\n",
    "        reconstructed_images.append(output) #append compressed reconstructed image\n",
    "        \n",
    "        \n",
    "        compressed_output = compressed_output.view(1,8,8)\n",
    "        compressed_output = compressed_output.permute(1,2,0).squeeze(2)\n",
    "        compressed_output = compressed_output.detach().cpu().numpy()\n",
    "        compressed_images.append(compressed_output) #append bottleneck output\n",
    "        \n",
    "        total_loss += loss_output.item()\n",
    "    \n",
    "    return np.array(compressed_images), np.array(reconstructed_images), total_loss"
   ]
  },
  {
   "cell_type": "code",
   "execution_count": 224,
   "metadata": {},
   "outputs": [
    {
     "name": "stderr",
     "output_type": "stream",
     "text": [
      "10000it [00:06, 1641.58it/s]\n"
     ]
    }
   ],
   "source": [
    "compressed_images, reconstructed_images, cost = test((noisy_X_test, X_test))"
   ]
  },
  {
   "cell_type": "code",
   "execution_count": 248,
   "metadata": {},
   "outputs": [],
   "source": [
    "def visualize(original_images, noisy_images, reconstructed_images, compressed_images, N=5):\n",
    "    \"\"\"\n",
    "    Visualization only.\n",
    "    Displays plots of N random images alongside compressed and original image.\n",
    "    \"\"\"\n",
    "    ## gather random images\n",
    "    random_images = np.random.randint(0,len(compressed_images), size=N)\n",
    "\n",
    "    ### display images\n",
    "    f, axes = plt.subplots(N, 4, figsize=(20, 20))\n",
    "    axes[0,0].set_title(\"Original Image\")\n",
    "    axes[0,1].set_title(\"Noisy Image\")\n",
    "    axes[0,2].set_title(\"Compressed Image\")\n",
    "    axes[0,3].set_title(\"Reconstructed Image\")\n",
    "    \n",
    "    for i in range(N):\n",
    "        c = compressed_images[random_images[i]] #compressed image\n",
    "        o = original_images[random_images[i]] #original image\n",
    "        r = reconstructed_images[random_images[i]] #reconstructed image\n",
    "        n = noisy_images[random_images[i]] #noisy image\n",
    "        \n",
    "        axes[i, 0].imshow(o, cmap=\"gray\") #DISPLAY ORIGINAL IMAGE\n",
    "        axes[i, 1].imshow(n, cmap=\"gray\") #DISPLAY NOISY IMAGE\n",
    "        axes[i, 2].imshow(c, cmap=\"gray\") #DISPLAY COMPRESSED IMAGE\n",
    "        axes[i, 3].imshow(r, cmap=\"gray\") #DISPLAY RECONSTRUCTED IMAGE\n",
    "        \n",
    "    \n",
    "    # remove the x and y ticks\n",
    "    loc = tkt.NullLocator()\n",
    "\n",
    "    for ax in axes:\n",
    "        for x in ax:\n",
    "            x.yaxis.set_major_locator(loc)\n",
    "            x.xaxis.set_major_locator(loc)\n",
    "        \n",
    "    plt.show()"
   ]
  },
  {
   "cell_type": "code",
   "execution_count": 249,
   "metadata": {},
   "outputs": [
    {
     "data": {
      "image/png": "[encoded data removed]",
      "text/plain": [
       "<Figure size 1440x1440 with 20 Axes>"
      ]
     },
     "metadata": {},
     "output_type": "display_data"
    }
   ],
   "source": [
    "visualize(X_test, noisy_X_test, reconstructed_images, compressed_images) #visualize output"
   ]
  },
  {
   "cell_type": "markdown",
   "metadata": {},
   "source": [
    "## Test any image"
   ]
  },
  {
   "cell_type": "code",
   "execution_count": 294,
   "metadata": {},
   "outputs": [],
   "source": [
    "def compress_image(img):\n",
    "    \"\"\"\n",
    "    Compress an image using Deep Denoising Compressive Autoencoder\n",
    "    \"\"\"\n",
    "    if(type(img) == str): #load image first\n",
    "        img = 255*rgb2gray(np.array(cv2.imread(img)))\n",
    "    \n",
    "    #resize to 28x28\n",
    "    img = cv2.resize(img, (28, 28), interpolation = cv2.INTER_AREA)\n",
    "    \n",
    "    #convert to tensor\n",
    "    output = torch.from_numpy(noise(img)).float().squeeze(0).flatten().to(device)\n",
    "    \n",
    "    output = model(output)\n",
    "    \n",
    "    #convert back to nd.array\n",
    "    output = output.view(1,28,28)\n",
    "    output = output.permute(1,2,0).squeeze(2)\n",
    "    output = output.detach().cpu().numpy()\n",
    "    \n",
    "    return img.reshape(28, 28), output #return original and compressed images"
   ]
  },
  {
   "cell_type": "code",
   "execution_count": 297,
   "metadata": {},
   "outputs": [],
   "source": [
    "test_original, test_compressed = compress_image(X_test[100])"
   ]
  },
  {
   "cell_type": "code",
   "execution_count": 301,
   "metadata": {},
   "outputs": [
    {
     "data": {
      "image/png": "[encoded data removed]",
      "text/plain": [
       "<Figure size 576x576 with 2 Axes>"
      ]
     },
     "metadata": {},
     "output_type": "display_data"
    }
   ],
   "source": [
    "plt.figure(figsize=(8, 8))\n",
    "plt.subplot(1, 2, 1), plt.imshow(test_original, 'gray')\n",
    "plt.title(\"Original Image\")\n",
    "plt.xticks([]), plt.yticks([]) #remove x and y axis\n",
    "\n",
    "plt.subplot(1, 2, 2), plt.imshow(test_compressed, 'gray')\n",
    "plt.title(\"DDCAE Output Image\")\n",
    "plt.xticks([]), plt.yticks([]) #remove x and y axis\n",
    "\n",
    "plt.show()"
   ]
  },
  {
   "cell_type": "markdown",
   "metadata": {},
   "source": [
    "## Save model"
   ]
  },
  {
   "cell_type": "code",
   "execution_count": 300,
   "metadata": {},
   "outputs": [],
   "source": [
    "torch.save(model.state_dict(), \"../model/ddcae.pth\") #save model."
   ]
  }
 ],
 "metadata": {
  "kernelspec": {
   "display_name": "Python 3",
   "language": "python",
   "name": "python3"
  },
  "language_info": {
   "codemirror_mode": {
    "name": "ipython",
    "version": 3
   },
   "file_extension": ".py",
   "mimetype": "text/x-python",
   "name": "python",
   "nbconvert_exporter": "python",
   "pygments_lexer": "ipython3",
   "version": "3.7.6"
  }
 },
 "nbformat": 4,
 "nbformat_minor": 4
}
