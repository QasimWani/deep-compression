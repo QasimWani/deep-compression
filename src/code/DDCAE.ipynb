{
 "cells": [
  {
   "cell_type": "markdown",
   "metadata": {},
   "source": [
    "## Deep Denoising Compressive Autoencoder\n",
    "\n",
    "<p> Author: Qasim Wani <br> Date written: Nov. 25, 2020 </p>"
   ]
  },
  {
   "cell_type": "code",
   "execution_count": 1,
   "metadata": {},
   "outputs": [
    {
     "name": "stderr",
     "output_type": "stream",
     "text": [
      "Using TensorFlow backend.\n"
     ]
    }
   ],
   "source": [
    "import numpy as np\n",
    "import pandas as pd\n",
    "import matplotlib.pyplot as plt\n",
    "import matplotlib.ticker as tkt\n",
    "\n",
    "import cv2\n",
    "from skimage.color import rgb2gray\n",
    "\n",
    "from tqdm import tqdm\n",
    "import time\n",
    "import os\n",
    "\n",
    "from keras.datasets import mnist\n",
    "from torchvision import transforms\n",
    "from torch.utils.data import DataLoader,Dataset\n",
    "\n",
    "import torch\n",
    "import torch.nn as nn\n",
    "import torch.optim as optim\n",
    "from torch.autograd import Variable"
   ]
  },
  {
   "cell_type": "markdown",
   "metadata": {},
   "source": [
    "## Step 1. loading data"
   ]
  },
  {
   "cell_type": "code",
   "execution_count": 2,
   "metadata": {},
   "outputs": [
    {
     "name": "stdout",
     "output_type": "stream",
     "text": [
      "Train data shape (60000, 28, 28)\n",
      "Test data shape (10000, 28, 28)\n"
     ]
    }
   ],
   "source": [
    "(X_train, y_train),(X_test, y_test) = mnist.load_data()\n",
    "print(f\"Train data shape {X_train.shape}\")\n",
    "print(f\"Test data shape {X_test.shape}\")"
   ]
  },
  {
   "cell_type": "markdown",
   "metadata": {},
   "source": [
    "## Step 2. Gaussian Noise"
   ]
  },
  {
   "cell_type": "code",
   "execution_count": 3,
   "metadata": {},
   "outputs": [],
   "source": [
    "def noise(img):\n",
    "    \"\"\"\n",
    "    Standard gaussian model for adding noise to an image.\n",
    "    @Param:\n",
    "    1. img - (nd.array) image to add noise to.\n",
    "    @Return:\n",
    "    - img - output of gaussian noise with mean = 0, variance = 1.\n",
    "    \"\"\"\n",
    "    return img + np.random.normal(0, 10, img.shape)"
   ]
  },
  {
   "cell_type": "code",
   "execution_count": 4,
   "metadata": {},
   "outputs": [
    {
     "data": {
      "image/png": "[encoded data removed]",
      "text/plain": [
       "<Figure size 576x576 with 2 Axes>"
      ]
     },
     "metadata": {
      "needs_background": "light"
     },
     "output_type": "display_data"
    }
   ],
   "source": [
    "plt.figure(figsize=(8, 8))\n",
    "plt.subplot(1, 2, 1), plt.imshow(X_train[0], 'gray'), plt.title(\"Original Image\")\n",
    "plt.subplot(1, 2, 2), plt.imshow(noise(X_train[0]), 'gray'), plt.title(\"Noisy Image\")\n",
    "plt.show()"
   ]
  },
  {
   "cell_type": "code",
   "execution_count": 5,
   "metadata": {},
   "outputs": [],
   "source": [
    "def generate_noisy_dataset(feature_matrix):\n",
    "    \"\"\"\n",
    "    Generates noisy dataset of images.\n",
    "    @Param:\n",
    "    1. feature_matrix: (nd.array) original/clean images.\n",
    "    @Returns:\n",
    "    - noisy_data: dirty/noisy images after applying gaussian noise function.\n",
    "    \"\"\"\n",
    "    noisy_data = []\n",
    "    for img in feature_matrix:\n",
    "        noisy_data.append(noise(img))\n",
    "    return np.array(noisy_data).reshape(feature_matrix.shape)"
   ]
  },
  {
   "cell_type": "code",
   "execution_count": 6,
   "metadata": {},
   "outputs": [],
   "source": [
    "noisy_X_train = generate_noisy_dataset(X_train)\n",
    "noisy_X_test = generate_noisy_dataset(X_test)"
   ]
  },
  {
   "cell_type": "code",
   "execution_count": 7,
   "metadata": {},
   "outputs": [],
   "source": [
    "class Dataset(Dataset):\n",
    "    \"\"\"Generate dataset from feature_matrix and labels\"\"\"\n",
    "    def __init__(self, noisy_data, original_data, labels, transform):\n",
    "        \"\"\"Gather data\"\"\"\n",
    "        self.dirty = noisy_data\n",
    "        self.clean = original_data\n",
    "        self.labels = labels\n",
    "        self.transform = transform\n",
    "    \n",
    "    def __len__(self):\n",
    "        \"\"\"Overrride default len to call shape of noisy_dataset\"\"\"\n",
    "        return len(self.dirty)\n",
    "    \n",
    "    def __getitem__(self, i):\n",
    "        \"\"\"Get an item from noisy dataset at index, i\"\"\"\n",
    "        x_noisy = self.dirty[i]\n",
    "        x_clean = self.clean[i]\n",
    "        y_label = self.labels[i]\n",
    "        \n",
    "        #check for transform\n",
    "        if(self.transform is not None):\n",
    "            x_noisy = self.transform(x_noisy)\n",
    "            x_clean = self.transform(x_clean)\n",
    "        \n",
    "        return x_noisy, x_clean, y_label"
   ]
  },
  {
   "cell_type": "code",
   "execution_count": 8,
   "metadata": {},
   "outputs": [],
   "source": [
    "tsfms = transforms.Compose([transforms.ToTensor()]) #get transform\n",
    "#load data\n",
    "trainset = Dataset(noisy_X_train, X_train, y_train, tsfms)\n",
    "testset  = Dataset(noisy_X_test, X_test, y_test, tsfms)"
   ]
  },
  {
   "cell_type": "code",
   "execution_count": 9,
   "metadata": {},
   "outputs": [],
   "source": [
    "#load data into batches\n",
    "trainloader = DataLoader(trainset,batch_size=32, shuffle=True) #mini-batch of 32\n",
    "testloader = DataLoader(testset,batch_size=1, shuffle=True)"
   ]
  },
  {
   "cell_type": "markdown",
   "metadata": {},
   "source": [
    "## Step 3. Autoencoder model"
   ]
  },
  {
   "cell_type": "code",
   "execution_count": 10,
   "metadata": {},
   "outputs": [],
   "source": [
    "class DAE(nn.Module):\n",
    "    \"\"\"Defines the Denoising Autoencoder model\"\"\"\n",
    "    def __init__(self, image_size=(28, 28), fc1=256, fc2=128, bottleneck=64):\n",
    "        \"\"\"\n",
    "        Initialize encoder and decoder model.\n",
    "        @Param: \n",
    "        1. image_size: height and width of input image, tuple (m, n), where m is height and n is width.\n",
    "        2. fc1: number of hidden units for first fully connected layer.\n",
    "        3. fc2: number of hidden units for second fully connected layer.\n",
    "        4. bottleneck: number of hidden units for bottleneck (codes) layer.\n",
    "        \"\"\"\n",
    "        super(DAE, self).__init__()\n",
    "        m, n = image_size\n",
    "        self.encoder = nn.Sequential(\n",
    "                  nn.Linear(m * n, fc1),\n",
    "                  nn.ReLU(True),\n",
    "                  nn.Linear(fc1, fc2),\n",
    "                  nn.ReLU(True),\n",
    "                  nn.Linear(fc2, bottleneck),\n",
    "                  nn.ReLU(True)\n",
    "                  )\n",
    "        #build decoder as reconstruction filter.\n",
    "        self.decoder = nn.Sequential(\n",
    "                      nn.Linear(bottleneck, fc2),\n",
    "                      nn.ReLU(True),\n",
    "                      nn.Linear(fc2, fc1),\n",
    "                      nn.ReLU(True),\n",
    "                      nn.Linear(fc1, m * n),\n",
    "                      nn.Sigmoid(),\n",
    "                      )\n",
    "        \n",
    "    def forward(self, x):\n",
    "        \"\"\"Override forward pass by incorporating encoder and decoder network architecture\"\"\"\n",
    "        x = self.encoder(x) #compress image\n",
    "        x = self.decoder(x) #reconstruction\n",
    "        return x"
   ]
  },
  {
   "cell_type": "code",
   "execution_count": 11,
   "metadata": {},
   "outputs": [],
   "source": [
    "#Enable cuda if available\n",
    "device = torch.device(\"cuda:0\" if torch.cuda.is_available() else \"cpu\")"
   ]
  },
  {
   "cell_type": "code",
   "execution_count": 12,
   "metadata": {},
   "outputs": [],
   "source": [
    "model = DAE()\n",
    "# according to paper, lossy image compression with compressive autoencoders (https://arxiv.org/pdf/1703.00395.pdf)\n",
    "# they used MSE loss as a measure of distortion b/w reconstruction and original image\n",
    "### Note that original image ≠ input image.\n",
    "loss = nn.MSELoss()\n",
    "# paper uses Adam optimizer for regularization with default Adam hyperparameters. keeping it as is for now.\n",
    "optimizer = optim.Adam(model.parameters())"
   ]
  },
  {
   "cell_type": "markdown",
   "metadata": {},
   "source": [
    "## Step 4. Training the model"
   ]
  },
  {
   "cell_type": "code",
   "execution_count": 13,
   "metadata": {},
   "outputs": [],
   "source": [
    "def train(feature_matrix, epochs=int(2e2), epsilon=0.5):\n",
    "    \"\"\"\n",
    "    Trains Autoencoder based on noisy images and corresponding labels\n",
    "    @Param:\n",
    "    1. feature_matrix: (nd.array) tuple representing (noisy_images, original_images).\n",
    "    2. epochs: (int) number of iterations\n",
    "    3. epsilon: (float) stopping condition\n",
    "    \"\"\"\n",
    "    cost = []\n",
    "    for epoch in range(epochs):\n",
    "        running_loss = 0\n",
    "        \n",
    "        temp = round(cost[-1], 5) if len(cost) > 0 else None\n",
    "        print(r\"Epoch : \" + str(epoch + 1) + \"; Loss = \" + str(temp), end=\"\")\n",
    "        \n",
    "        for dirty, clean, label in tqdm((feature_matrix)):\n",
    "            dirty = dirty.view(dirty.size(0), -1).type(torch.FloatTensor).to(device)\n",
    "            clean = clean.view(clean.size(0), -1).type(torch.FloatTensor).to(device)\n",
    "            \n",
    "            output = model(dirty) #get output from forward pass.\n",
    "            loss_output = loss(output, clean) #generate MSE error\n",
    "            \n",
    "            optimizer.zero_grad() #clean gradients\n",
    "            loss_output.backward() #backprop\n",
    "            optimizer.step()\n",
    "            \n",
    "            running_loss += loss_output.item()\n",
    "        \n",
    "        #append costs\n",
    "        cost.append(running_loss)\n",
    "        \n",
    "        if(running_loss < epsilon):\n",
    "            break\n",
    "\n",
    "    return cost"
   ]
  },
  {
   "cell_type": "code",
   "execution_count": 14,
   "metadata": {
    "scrolled": true
   },
   "outputs": [
    {
     "name": "stderr",
     "output_type": "stream",
     "text": [
      "  2%|▏         | 44/1875 [00:00<00:08, 213.35it/s]"
     ]
    },
    {
     "name": "stdout",
     "output_type": "stream",
     "text": [
      "Epoch : 1; Loss = None"
     ]
    },
    {
     "name": "stderr",
     "output_type": "stream",
     "text": [
      "100%|██████████| 1875/1875 [00:12<00:00, 149.04it/s]\n",
      "  1%|          | 12/1875 [00:00<00:16, 116.23it/s]"
     ]
    },
    {
     "name": "stdout",
     "output_type": "stream",
     "text": [
      "Epoch : 2; Loss = 38.55791"
     ]
    },
    {
     "name": "stderr",
     "output_type": "stream",
     "text": [
      "100%|██████████| 1875/1875 [00:15<00:00, 120.42it/s]\n",
      "  1%|          | 12/1875 [00:00<00:15, 116.51it/s]"
     ]
    },
    {
     "name": "stdout",
     "output_type": "stream",
     "text": [
      "Epoch : 3; Loss = 21.75985"
     ]
    },
    {
     "name": "stderr",
     "output_type": "stream",
     "text": [
      "100%|██████████| 1875/1875 [00:16<00:00, 112.22it/s]\n",
      "  1%|          | 10/1875 [00:00<00:19, 94.70it/s]"
     ]
    },
    {
     "name": "stdout",
     "output_type": "stream",
     "text": [
      "Epoch : 4; Loss = 18.7331"
     ]
    },
    {
     "name": "stderr",
     "output_type": "stream",
     "text": [
      "100%|██████████| 1875/1875 [00:16<00:00, 112.47it/s]\n",
      "  1%|          | 11/1875 [00:00<00:18, 103.15it/s]"
     ]
    },
    {
     "name": "stdout",
     "output_type": "stream",
     "text": [
      "Epoch : 5; Loss = 17.23593"
     ]
    },
    {
     "name": "stderr",
     "output_type": "stream",
     "text": [
      "100%|██████████| 1875/1875 [00:17<00:00, 109.60it/s]\n",
      "  1%|          | 13/1875 [00:00<00:15, 119.92it/s]"
     ]
    },
    {
     "name": "stdout",
     "output_type": "stream",
     "text": [
      "Epoch : 6; Loss = 16.21222"
     ]
    },
    {
     "name": "stderr",
     "output_type": "stream",
     "text": [
      "100%|██████████| 1875/1875 [00:16<00:00, 116.88it/s]\n",
      "  1%|          | 12/1875 [00:00<00:16, 115.51it/s]"
     ]
    },
    {
     "name": "stdout",
     "output_type": "stream",
     "text": [
      "Epoch : 7; Loss = 15.50767"
     ]
    },
    {
     "name": "stderr",
     "output_type": "stream",
     "text": [
      "100%|██████████| 1875/1875 [00:15<00:00, 117.90it/s]\n",
      "  1%|          | 13/1875 [00:00<00:15, 121.77it/s]"
     ]
    },
    {
     "name": "stdout",
     "output_type": "stream",
     "text": [
      "Epoch : 8; Loss = 15.00166"
     ]
    },
    {
     "name": "stderr",
     "output_type": "stream",
     "text": [
      "100%|██████████| 1875/1875 [00:16<00:00, 112.36it/s]\n",
      "  1%|          | 12/1875 [00:00<00:15, 118.32it/s]"
     ]
    },
    {
     "name": "stdout",
     "output_type": "stream",
     "text": [
      "Epoch : 9; Loss = 14.59848"
     ]
    },
    {
     "name": "stderr",
     "output_type": "stream",
     "text": [
      "100%|██████████| 1875/1875 [00:16<00:00, 112.52it/s]\n",
      "  1%|          | 13/1875 [00:00<00:15, 124.00it/s]"
     ]
    },
    {
     "name": "stdout",
     "output_type": "stream",
     "text": [
      "Epoch : 10; Loss = 14.35703"
     ]
    },
    {
     "name": "stderr",
     "output_type": "stream",
     "text": [
      "100%|██████████| 1875/1875 [00:15<00:00, 123.87it/s]\n",
      "  1%|          | 13/1875 [00:00<00:14, 125.15it/s]"
     ]
    },
    {
     "name": "stdout",
     "output_type": "stream",
     "text": [
      "Epoch : 11; Loss = 14.03778"
     ]
    },
    {
     "name": "stderr",
     "output_type": "stream",
     "text": [
      "100%|██████████| 1875/1875 [00:15<00:00, 123.41it/s]\n",
      "  1%|          | 13/1875 [00:00<00:14, 128.70it/s]"
     ]
    },
    {
     "name": "stdout",
     "output_type": "stream",
     "text": [
      "Epoch : 12; Loss = 13.85236"
     ]
    },
    {
     "name": "stderr",
     "output_type": "stream",
     "text": [
      "100%|██████████| 1875/1875 [00:14<00:00, 125.26it/s]\n",
      "  1%|          | 11/1875 [00:00<00:17, 105.54it/s]"
     ]
    },
    {
     "name": "stdout",
     "output_type": "stream",
     "text": [
      "Epoch : 13; Loss = 13.67472"
     ]
    },
    {
     "name": "stderr",
     "output_type": "stream",
     "text": [
      "100%|██████████| 1875/1875 [00:15<00:00, 123.67it/s]\n",
      "  1%|          | 12/1875 [00:00<00:15, 119.70it/s]"
     ]
    },
    {
     "name": "stdout",
     "output_type": "stream",
     "text": [
      "Epoch : 14; Loss = 13.51205"
     ]
    },
    {
     "name": "stderr",
     "output_type": "stream",
     "text": [
      "100%|██████████| 1875/1875 [00:15<00:00, 122.39it/s]\n",
      "  1%|          | 12/1875 [00:00<00:16, 115.69it/s]"
     ]
    },
    {
     "name": "stdout",
     "output_type": "stream",
     "text": [
      "Epoch : 15; Loss = 13.3492"
     ]
    },
    {
     "name": "stderr",
     "output_type": "stream",
     "text": [
      "100%|██████████| 1875/1875 [00:15<00:00, 121.37it/s]\n",
      "  1%|          | 13/1875 [00:00<00:15, 118.50it/s]"
     ]
    },
    {
     "name": "stdout",
     "output_type": "stream",
     "text": [
      "Epoch : 16; Loss = 13.21908"
     ]
    },
    {
     "name": "stderr",
     "output_type": "stream",
     "text": [
      "100%|██████████| 1875/1875 [00:15<00:00, 120.80it/s]\n",
      "  1%|          | 13/1875 [00:00<00:15, 121.66it/s]"
     ]
    },
    {
     "name": "stdout",
     "output_type": "stream",
     "text": [
      "Epoch : 17; Loss = 13.11714"
     ]
    },
    {
     "name": "stderr",
     "output_type": "stream",
     "text": [
      "100%|██████████| 1875/1875 [00:15<00:00, 119.03it/s]\n",
      "  1%|          | 12/1875 [00:00<00:16, 112.29it/s]"
     ]
    },
    {
     "name": "stdout",
     "output_type": "stream",
     "text": [
      "Epoch : 18; Loss = 13.00972"
     ]
    },
    {
     "name": "stderr",
     "output_type": "stream",
     "text": [
      "100%|██████████| 1875/1875 [00:16<00:00, 113.05it/s]\n",
      "  1%|          | 11/1875 [00:00<00:18, 101.21it/s]"
     ]
    },
    {
     "name": "stdout",
     "output_type": "stream",
     "text": [
      "Epoch : 19; Loss = 12.84628"
     ]
    },
    {
     "name": "stderr",
     "output_type": "stream",
     "text": [
      "100%|██████████| 1875/1875 [00:17<00:00, 104.65it/s]\n",
      "  1%|          | 12/1875 [00:00<00:16, 114.65it/s]"
     ]
    },
    {
     "name": "stdout",
     "output_type": "stream",
     "text": [
      "Epoch : 20; Loss = 12.85169"
     ]
    },
    {
     "name": "stderr",
     "output_type": "stream",
     "text": [
      "100%|██████████| 1875/1875 [00:17<00:00, 105.49it/s]\n",
      "  1%|          | 11/1875 [00:00<00:18, 101.43it/s]"
     ]
    },
    {
     "name": "stdout",
     "output_type": "stream",
     "text": [
      "Epoch : 21; Loss = 12.68665"
     ]
    },
    {
     "name": "stderr",
     "output_type": "stream",
     "text": [
      "100%|██████████| 1875/1875 [00:18<00:00, 100.90it/s]\n",
      "  1%|          | 12/1875 [00:00<00:16, 112.50it/s]"
     ]
    },
    {
     "name": "stdout",
     "output_type": "stream",
     "text": [
      "Epoch : 22; Loss = 12.62797"
     ]
    },
    {
     "name": "stderr",
     "output_type": "stream",
     "text": [
      "100%|██████████| 1875/1875 [00:16<00:00, 113.82it/s]\n",
      "  1%|          | 11/1875 [00:00<00:17, 108.63it/s]"
     ]
    },
    {
     "name": "stdout",
     "output_type": "stream",
     "text": [
      "Epoch : 23; Loss = 12.58541"
     ]
    },
    {
     "name": "stderr",
     "output_type": "stream",
     "text": [
      "100%|██████████| 1875/1875 [00:16<00:00, 113.11it/s]\n",
      "  1%|          | 12/1875 [00:00<00:16, 112.77it/s]"
     ]
    },
    {
     "name": "stdout",
     "output_type": "stream",
     "text": [
      "Epoch : 24; Loss = 12.47528"
     ]
    },
    {
     "name": "stderr",
     "output_type": "stream",
     "text": [
      "100%|██████████| 1875/1875 [00:16<00:00, 111.95it/s]\n",
      "  1%|          | 11/1875 [00:00<00:17, 106.76it/s]"
     ]
    },
    {
     "name": "stdout",
     "output_type": "stream",
     "text": [
      "Epoch : 25; Loss = 12.44898"
     ]
    },
    {
     "name": "stderr",
     "output_type": "stream",
     "text": [
      "100%|██████████| 1875/1875 [00:16<00:00, 111.16it/s]\n",
      "  1%|          | 12/1875 [00:00<00:16, 112.48it/s]"
     ]
    },
    {
     "name": "stdout",
     "output_type": "stream",
     "text": [
      "Epoch : 26; Loss = 12.35761"
     ]
    },
    {
     "name": "stderr",
     "output_type": "stream",
     "text": [
      "100%|██████████| 1875/1875 [00:16<00:00, 110.74it/s]\n",
      "  1%|          | 11/1875 [00:00<00:16, 109.75it/s]"
     ]
    },
    {
     "name": "stdout",
     "output_type": "stream",
     "text": [
      "Epoch : 27; Loss = 12.29683"
     ]
    },
    {
     "name": "stderr",
     "output_type": "stream",
     "text": [
      "100%|██████████| 1875/1875 [00:16<00:00, 111.20it/s]\n",
      "  1%|          | 12/1875 [00:00<00:16, 110.87it/s]"
     ]
    },
    {
     "name": "stdout",
     "output_type": "stream",
     "text": [
      "Epoch : 28; Loss = 12.29364"
     ]
    },
    {
     "name": "stderr",
     "output_type": "stream",
     "text": [
      "100%|██████████| 1875/1875 [00:17<00:00, 107.64it/s]\n",
      "  1%|          | 11/1875 [00:00<00:17, 106.03it/s]"
     ]
    },
    {
     "name": "stdout",
     "output_type": "stream",
     "text": [
      "Epoch : 29; Loss = 12.18303"
     ]
    },
    {
     "name": "stderr",
     "output_type": "stream",
     "text": [
      "100%|██████████| 1875/1875 [00:18<00:00, 98.72it/s] \n",
      "  0%|          | 8/1875 [00:00<00:26, 71.60it/s]"
     ]
    },
    {
     "name": "stdout",
     "output_type": "stream",
     "text": [
      "Epoch : 30; Loss = 12.2384"
     ]
    },
    {
     "name": "stderr",
     "output_type": "stream",
     "text": [
      "100%|██████████| 1875/1875 [00:22<00:00, 82.31it/s] \n",
      "  1%|          | 10/1875 [00:00<00:19, 93.29it/s]"
     ]
    },
    {
     "name": "stdout",
     "output_type": "stream",
     "text": [
      "Epoch : 31; Loss = 12.07413"
     ]
    },
    {
     "name": "stderr",
     "output_type": "stream",
     "text": [
      "100%|██████████| 1875/1875 [00:19<00:00, 97.15it/s]\n",
      "  1%|          | 10/1875 [00:00<00:20, 92.96it/s]"
     ]
    },
    {
     "name": "stdout",
     "output_type": "stream",
     "text": [
      "Epoch : 32; Loss = 12.13778"
     ]
    },
    {
     "name": "stderr",
     "output_type": "stream",
     "text": [
      "100%|██████████| 1875/1875 [00:20<00:00, 92.68it/s]\n",
      "  0%|          | 9/1875 [00:00<00:21, 85.25it/s]"
     ]
    },
    {
     "name": "stdout",
     "output_type": "stream",
     "text": [
      "Epoch : 33; Loss = 12.03782"
     ]
    },
    {
     "name": "stderr",
     "output_type": "stream",
     "text": [
      "100%|██████████| 1875/1875 [00:21<00:00, 88.19it/s]\n",
      "  0%|          | 9/1875 [00:00<00:22, 82.29it/s]"
     ]
    },
    {
     "name": "stdout",
     "output_type": "stream",
     "text": [
      "Epoch : 34; Loss = 12.02929"
     ]
    },
    {
     "name": "stderr",
     "output_type": "stream",
     "text": [
      "100%|██████████| 1875/1875 [00:22<00:00, 83.71it/s]\n",
      "  0%|          | 9/1875 [00:00<00:23, 80.87it/s]"
     ]
    },
    {
     "name": "stdout",
     "output_type": "stream",
     "text": [
      "Epoch : 35; Loss = 11.98262"
     ]
    },
    {
     "name": "stderr",
     "output_type": "stream",
     "text": [
      "100%|██████████| 1875/1875 [00:23<00:00, 80.65it/s]\n",
      "  0%|          | 9/1875 [00:00<00:23, 81.01it/s]"
     ]
    },
    {
     "name": "stdout",
     "output_type": "stream",
     "text": [
      "Epoch : 36; Loss = 11.91534"
     ]
    },
    {
     "name": "stderr",
     "output_type": "stream",
     "text": [
      "100%|██████████| 1875/1875 [00:23<00:00, 80.01it/s]\n",
      "  0%|          | 8/1875 [00:00<00:24, 76.99it/s]"
     ]
    },
    {
     "name": "stdout",
     "output_type": "stream",
     "text": [
      "Epoch : 37; Loss = 12.01067"
     ]
    },
    {
     "name": "stderr",
     "output_type": "stream",
     "text": [
      "100%|██████████| 1875/1875 [00:23<00:00, 79.38it/s]\n",
      "  0%|          | 8/1875 [00:00<00:24, 76.34it/s]"
     ]
    },
    {
     "name": "stdout",
     "output_type": "stream",
     "text": [
      "Epoch : 38; Loss = 11.88665"
     ]
    },
    {
     "name": "stderr",
     "output_type": "stream",
     "text": [
      "100%|██████████| 1875/1875 [00:23<00:00, 79.14it/s]\n",
      "  0%|          | 8/1875 [00:00<00:24, 74.95it/s]"
     ]
    },
    {
     "name": "stdout",
     "output_type": "stream",
     "text": [
      "Epoch : 39; Loss = 11.86266"
     ]
    },
    {
     "name": "stderr",
     "output_type": "stream",
     "text": [
      "100%|██████████| 1875/1875 [00:23<00:00, 78.17it/s]\n",
      "  0%|          | 8/1875 [00:00<00:24, 75.55it/s]"
     ]
    },
    {
     "name": "stdout",
     "output_type": "stream",
     "text": [
      "Epoch : 40; Loss = 11.84506"
     ]
    },
    {
     "name": "stderr",
     "output_type": "stream",
     "text": [
      "100%|██████████| 1875/1875 [00:23<00:00, 78.79it/s]\n",
      "  0%|          | 8/1875 [00:00<00:23, 78.25it/s]"
     ]
    },
    {
     "name": "stdout",
     "output_type": "stream",
     "text": [
      "Epoch : 41; Loss = 11.86403"
     ]
    },
    {
     "name": "stderr",
     "output_type": "stream",
     "text": [
      "100%|██████████| 1875/1875 [00:23<00:00, 79.18it/s]\n",
      "  0%|          | 9/1875 [00:00<00:23, 80.86it/s]"
     ]
    },
    {
     "name": "stdout",
     "output_type": "stream",
     "text": [
      "Epoch : 42; Loss = 11.77666"
     ]
    },
    {
     "name": "stderr",
     "output_type": "stream",
     "text": [
      "100%|██████████| 1875/1875 [00:23<00:00, 79.42it/s]\n",
      "  0%|          | 8/1875 [00:00<00:24, 77.61it/s]"
     ]
    },
    {
     "name": "stdout",
     "output_type": "stream",
     "text": [
      "Epoch : 43; Loss = 11.80236"
     ]
    },
    {
     "name": "stderr",
     "output_type": "stream",
     "text": [
      "100%|██████████| 1875/1875 [00:23<00:00, 78.63it/s]\n",
      "  0%|          | 8/1875 [00:00<00:24, 77.72it/s]"
     ]
    },
    {
     "name": "stdout",
     "output_type": "stream",
     "text": [
      "Epoch : 44; Loss = 11.7879"
     ]
    },
    {
     "name": "stderr",
     "output_type": "stream",
     "text": [
      "100%|██████████| 1875/1875 [00:23<00:00, 78.72it/s]\n",
      "  0%|          | 8/1875 [00:00<00:23, 79.29it/s]"
     ]
    },
    {
     "name": "stdout",
     "output_type": "stream",
     "text": [
      "Epoch : 45; Loss = 11.70497"
     ]
    },
    {
     "name": "stderr",
     "output_type": "stream",
     "text": [
      "100%|██████████| 1875/1875 [00:23<00:00, 78.40it/s]\n",
      "  0%|          | 8/1875 [00:00<00:25, 74.01it/s]"
     ]
    },
    {
     "name": "stdout",
     "output_type": "stream",
     "text": [
      "Epoch : 46; Loss = 11.7046"
     ]
    },
    {
     "name": "stderr",
     "output_type": "stream",
     "text": [
      "100%|██████████| 1875/1875 [00:24<00:00, 77.04it/s]\n",
      "  0%|          | 8/1875 [00:00<00:24, 77.63it/s]"
     ]
    },
    {
     "name": "stdout",
     "output_type": "stream",
     "text": [
      "Epoch : 47; Loss = 11.7237"
     ]
    },
    {
     "name": "stderr",
     "output_type": "stream",
     "text": [
      "100%|██████████| 1875/1875 [00:24<00:00, 77.84it/s]\n",
      "  0%|          | 8/1875 [00:00<00:24, 77.03it/s]"
     ]
    },
    {
     "name": "stdout",
     "output_type": "stream",
     "text": [
      "Epoch : 48; Loss = 11.68305"
     ]
    },
    {
     "name": "stderr",
     "output_type": "stream",
     "text": [
      "100%|██████████| 1875/1875 [00:24<00:00, 77.34it/s]\n",
      "  0%|          | 8/1875 [00:00<00:24, 75.38it/s]"
     ]
    },
    {
     "name": "stdout",
     "output_type": "stream",
     "text": [
      "Epoch : 49; Loss = 11.64015"
     ]
    },
    {
     "name": "stderr",
     "output_type": "stream",
     "text": [
      "100%|██████████| 1875/1875 [00:24<00:00, 77.70it/s]\n",
      "  0%|          | 8/1875 [00:00<00:24, 76.33it/s]"
     ]
    },
    {
     "name": "stdout",
     "output_type": "stream",
     "text": [
      "Epoch : 50; Loss = 11.65626"
     ]
    },
    {
     "name": "stderr",
     "output_type": "stream",
     "text": [
      "100%|██████████| 1875/1875 [00:24<00:00, 77.58it/s]\n",
      "  0%|          | 8/1875 [00:00<00:25, 74.07it/s]"
     ]
    },
    {
     "name": "stdout",
     "output_type": "stream",
     "text": [
      "Epoch : 51; Loss = 11.66799"
     ]
    },
    {
     "name": "stderr",
     "output_type": "stream",
     "text": [
      "100%|██████████| 1875/1875 [00:24<00:00, 77.38it/s]\n",
      "  0%|          | 8/1875 [00:00<00:24, 74.75it/s]"
     ]
    },
    {
     "name": "stdout",
     "output_type": "stream",
     "text": [
      "Epoch : 52; Loss = 11.61657"
     ]
    },
    {
     "name": "stderr",
     "output_type": "stream",
     "text": [
      "100%|██████████| 1875/1875 [00:24<00:00, 76.95it/s]\n",
      "  0%|          | 8/1875 [00:00<00:24, 75.19it/s]"
     ]
    },
    {
     "name": "stdout",
     "output_type": "stream",
     "text": [
      "Epoch : 53; Loss = 11.60856"
     ]
    },
    {
     "name": "stderr",
     "output_type": "stream",
     "text": [
      "100%|██████████| 1875/1875 [00:24<00:00, 76.86it/s]\n",
      "  0%|          | 8/1875 [00:00<00:24, 75.27it/s]"
     ]
    },
    {
     "name": "stdout",
     "output_type": "stream",
     "text": [
      "Epoch : 54; Loss = 11.61798"
     ]
    },
    {
     "name": "stderr",
     "output_type": "stream",
     "text": [
      "100%|██████████| 1875/1875 [00:24<00:00, 76.42it/s]\n",
      "  0%|          | 8/1875 [00:00<00:25, 73.53it/s]"
     ]
    },
    {
     "name": "stdout",
     "output_type": "stream",
     "text": [
      "Epoch : 55; Loss = 11.61017"
     ]
    },
    {
     "name": "stderr",
     "output_type": "stream",
     "text": [
      "100%|██████████| 1875/1875 [00:24<00:00, 76.13it/s]\n",
      "  0%|          | 8/1875 [00:00<00:25, 74.57it/s]"
     ]
    },
    {
     "name": "stdout",
     "output_type": "stream",
     "text": [
      "Epoch : 56; Loss = 11.57587"
     ]
    },
    {
     "name": "stderr",
     "output_type": "stream",
     "text": [
      "100%|██████████| 1875/1875 [00:24<00:00, 76.82it/s]\n",
      "  0%|          | 7/1875 [00:00<00:27, 67.50it/s]"
     ]
    },
    {
     "name": "stdout",
     "output_type": "stream",
     "text": [
      "Epoch : 57; Loss = 11.61156"
     ]
    },
    {
     "name": "stderr",
     "output_type": "stream",
     "text": [
      "100%|██████████| 1875/1875 [00:24<00:00, 76.67it/s]\n",
      "  0%|          | 8/1875 [00:00<00:24, 74.89it/s]"
     ]
    },
    {
     "name": "stdout",
     "output_type": "stream",
     "text": [
      "Epoch : 58; Loss = 11.48294"
     ]
    },
    {
     "name": "stderr",
     "output_type": "stream",
     "text": [
      "100%|██████████| 1875/1875 [00:24<00:00, 76.47it/s]\n",
      "  0%|          | 8/1875 [00:00<00:24, 76.28it/s]"
     ]
    },
    {
     "name": "stdout",
     "output_type": "stream",
     "text": [
      "Epoch : 59; Loss = 11.51597"
     ]
    },
    {
     "name": "stderr",
     "output_type": "stream",
     "text": [
      "100%|██████████| 1875/1875 [00:24<00:00, 75.87it/s]\n",
      "  0%|          | 8/1875 [00:00<00:24, 75.35it/s]"
     ]
    },
    {
     "name": "stdout",
     "output_type": "stream",
     "text": [
      "Epoch : 60; Loss = 11.55479"
     ]
    },
    {
     "name": "stderr",
     "output_type": "stream",
     "text": [
      "100%|██████████| 1875/1875 [00:24<00:00, 76.03it/s]\n",
      "  0%|          | 8/1875 [00:00<00:25, 74.17it/s]"
     ]
    },
    {
     "name": "stdout",
     "output_type": "stream",
     "text": [
      "Epoch : 61; Loss = 11.47025"
     ]
    },
    {
     "name": "stderr",
     "output_type": "stream",
     "text": [
      "100%|██████████| 1875/1875 [00:24<00:00, 76.25it/s]\n",
      "  0%|          | 8/1875 [00:00<00:24, 75.37it/s]"
     ]
    },
    {
     "name": "stdout",
     "output_type": "stream",
     "text": [
      "Epoch : 62; Loss = 11.4771"
     ]
    },
    {
     "name": "stderr",
     "output_type": "stream",
     "text": [
      "100%|██████████| 1875/1875 [00:24<00:00, 76.16it/s]\n",
      "  0%|          | 8/1875 [00:00<00:26, 71.80it/s]"
     ]
    },
    {
     "name": "stdout",
     "output_type": "stream",
     "text": [
      "Epoch : 63; Loss = 11.50821"
     ]
    },
    {
     "name": "stderr",
     "output_type": "stream",
     "text": [
      "100%|██████████| 1875/1875 [00:24<00:00, 76.12it/s]\n",
      "  0%|          | 8/1875 [00:00<00:24, 74.75it/s]"
     ]
    },
    {
     "name": "stdout",
     "output_type": "stream",
     "text": [
      "Epoch : 64; Loss = 11.4779"
     ]
    },
    {
     "name": "stderr",
     "output_type": "stream",
     "text": [
      "100%|██████████| 1875/1875 [00:24<00:00, 75.88it/s]\n",
      "  0%|          | 7/1875 [00:00<00:26, 69.62it/s]"
     ]
    },
    {
     "name": "stdout",
     "output_type": "stream",
     "text": [
      "Epoch : 65; Loss = 11.45196"
     ]
    },
    {
     "name": "stderr",
     "output_type": "stream",
     "text": [
      "100%|██████████| 1875/1875 [00:24<00:00, 75.91it/s]\n",
      "  0%|          | 8/1875 [00:00<00:25, 73.08it/s]"
     ]
    },
    {
     "name": "stdout",
     "output_type": "stream",
     "text": [
      "Epoch : 66; Loss = 11.47078"
     ]
    },
    {
     "name": "stderr",
     "output_type": "stream",
     "text": [
      "100%|██████████| 1875/1875 [00:24<00:00, 75.68it/s]\n",
      "  0%|          | 8/1875 [00:00<00:24, 75.67it/s]"
     ]
    },
    {
     "name": "stdout",
     "output_type": "stream",
     "text": [
      "Epoch : 67; Loss = 11.46921"
     ]
    },
    {
     "name": "stderr",
     "output_type": "stream",
     "text": [
      "100%|██████████| 1875/1875 [00:24<00:00, 75.31it/s]\n",
      "  0%|          | 8/1875 [00:00<00:25, 74.18it/s]"
     ]
    },
    {
     "name": "stdout",
     "output_type": "stream",
     "text": [
      "Epoch : 68; Loss = 11.40332"
     ]
    },
    {
     "name": "stderr",
     "output_type": "stream",
     "text": [
      "100%|██████████| 1875/1875 [00:25<00:00, 74.96it/s]\n",
      "  0%|          | 7/1875 [00:00<00:29, 63.64it/s]"
     ]
    },
    {
     "name": "stdout",
     "output_type": "stream",
     "text": [
      "Epoch : 69; Loss = 11.47575"
     ]
    },
    {
     "name": "stderr",
     "output_type": "stream",
     "text": [
      "100%|██████████| 1875/1875 [00:24<00:00, 75.10it/s]\n",
      "  0%|          | 8/1875 [00:00<00:25, 73.68it/s]"
     ]
    },
    {
     "name": "stdout",
     "output_type": "stream",
     "text": [
      "Epoch : 70; Loss = 11.38923"
     ]
    },
    {
     "name": "stderr",
     "output_type": "stream",
     "text": [
      "100%|██████████| 1875/1875 [00:24<00:00, 75.53it/s]\n",
      "  0%|          | 8/1875 [00:00<00:24, 75.93it/s]"
     ]
    },
    {
     "name": "stdout",
     "output_type": "stream",
     "text": [
      "Epoch : 71; Loss = 11.39316"
     ]
    },
    {
     "name": "stderr",
     "output_type": "stream",
     "text": [
      "100%|██████████| 1875/1875 [00:24<00:00, 75.26it/s]\n",
      "  0%|          | 8/1875 [00:00<00:25, 74.30it/s]"
     ]
    },
    {
     "name": "stdout",
     "output_type": "stream",
     "text": [
      "Epoch : 72; Loss = 11.3658"
     ]
    },
    {
     "name": "stderr",
     "output_type": "stream",
     "text": [
      "100%|██████████| 1875/1875 [00:25<00:00, 74.49it/s]\n",
      "  0%|          | 8/1875 [00:00<00:25, 72.80it/s]"
     ]
    },
    {
     "name": "stdout",
     "output_type": "stream",
     "text": [
      "Epoch : 73; Loss = 11.41684"
     ]
    },
    {
     "name": "stderr",
     "output_type": "stream",
     "text": [
      "100%|██████████| 1875/1875 [00:25<00:00, 74.36it/s]\n",
      "  0%|          | 8/1875 [00:00<00:25, 74.11it/s]"
     ]
    },
    {
     "name": "stdout",
     "output_type": "stream",
     "text": [
      "Epoch : 74; Loss = 11.35034"
     ]
    },
    {
     "name": "stderr",
     "output_type": "stream",
     "text": [
      "100%|██████████| 1875/1875 [00:25<00:00, 74.51it/s]\n",
      "  0%|          | 8/1875 [00:00<00:25, 72.52it/s]"
     ]
    },
    {
     "name": "stdout",
     "output_type": "stream",
     "text": [
      "Epoch : 75; Loss = 11.36566"
     ]
    },
    {
     "name": "stderr",
     "output_type": "stream",
     "text": [
      "100%|██████████| 1875/1875 [00:25<00:00, 74.61it/s]\n",
      "  0%|          | 8/1875 [00:00<00:24, 75.61it/s]"
     ]
    },
    {
     "name": "stdout",
     "output_type": "stream",
     "text": [
      "Epoch : 76; Loss = 11.36386"
     ]
    },
    {
     "name": "stderr",
     "output_type": "stream",
     "text": [
      "100%|██████████| 1875/1875 [00:25<00:00, 74.55it/s]\n",
      "  0%|          | 8/1875 [00:00<00:24, 76.45it/s]"
     ]
    },
    {
     "name": "stdout",
     "output_type": "stream",
     "text": [
      "Epoch : 77; Loss = 11.32449"
     ]
    },
    {
     "name": "stderr",
     "output_type": "stream",
     "text": [
      "100%|██████████| 1875/1875 [00:25<00:00, 74.31it/s]\n",
      "  0%|          | 8/1875 [00:00<00:26, 71.19it/s]"
     ]
    },
    {
     "name": "stdout",
     "output_type": "stream",
     "text": [
      "Epoch : 78; Loss = 11.35687"
     ]
    },
    {
     "name": "stderr",
     "output_type": "stream",
     "text": [
      "100%|██████████| 1875/1875 [00:25<00:00, 73.73it/s]\n",
      "  0%|          | 8/1875 [00:00<00:25, 73.86it/s]"
     ]
    },
    {
     "name": "stdout",
     "output_type": "stream",
     "text": [
      "Epoch : 79; Loss = 11.3244"
     ]
    },
    {
     "name": "stderr",
     "output_type": "stream",
     "text": [
      "100%|██████████| 1875/1875 [00:25<00:00, 74.27it/s]\n",
      "  0%|          | 8/1875 [00:00<00:25, 72.72it/s]"
     ]
    },
    {
     "name": "stdout",
     "output_type": "stream",
     "text": [
      "Epoch : 80; Loss = 11.26578"
     ]
    },
    {
     "name": "stderr",
     "output_type": "stream",
     "text": [
      "100%|██████████| 1875/1875 [00:25<00:00, 74.08it/s]\n",
      "  0%|          | 8/1875 [00:00<00:25, 72.91it/s]"
     ]
    },
    {
     "name": "stdout",
     "output_type": "stream",
     "text": [
      "Epoch : 81; Loss = 11.36722"
     ]
    },
    {
     "name": "stderr",
     "output_type": "stream",
     "text": [
      "100%|██████████| 1875/1875 [00:25<00:00, 74.04it/s]\n",
      "  0%|          | 8/1875 [00:00<00:26, 71.58it/s]"
     ]
    },
    {
     "name": "stdout",
     "output_type": "stream",
     "text": [
      "Epoch : 82; Loss = 11.26446"
     ]
    },
    {
     "name": "stderr",
     "output_type": "stream",
     "text": [
      "100%|██████████| 1875/1875 [00:25<00:00, 73.87it/s]\n",
      "  0%|          | 8/1875 [00:00<00:25, 73.37it/s]"
     ]
    },
    {
     "name": "stdout",
     "output_type": "stream",
     "text": [
      "Epoch : 83; Loss = 11.34576"
     ]
    },
    {
     "name": "stderr",
     "output_type": "stream",
     "text": [
      "100%|██████████| 1875/1875 [00:25<00:00, 73.64it/s]\n",
      "  0%|          | 8/1875 [00:00<00:25, 72.25it/s]"
     ]
    },
    {
     "name": "stdout",
     "output_type": "stream",
     "text": [
      "Epoch : 84; Loss = 11.25803"
     ]
    },
    {
     "name": "stderr",
     "output_type": "stream",
     "text": [
      "100%|██████████| 1875/1875 [00:25<00:00, 73.62it/s]\n",
      "  0%|          | 8/1875 [00:00<00:25, 71.90it/s]"
     ]
    },
    {
     "name": "stdout",
     "output_type": "stream",
     "text": [
      "Epoch : 85; Loss = 11.33692"
     ]
    },
    {
     "name": "stderr",
     "output_type": "stream",
     "text": [
      "100%|██████████| 1875/1875 [00:25<00:00, 73.87it/s]\n",
      "  0%|          | 8/1875 [00:00<00:25, 72.72it/s]"
     ]
    },
    {
     "name": "stdout",
     "output_type": "stream",
     "text": [
      "Epoch : 86; Loss = 11.30445"
     ]
    },
    {
     "name": "stderr",
     "output_type": "stream",
     "text": [
      "100%|██████████| 1875/1875 [00:25<00:00, 73.72it/s]\n",
      "  0%|          | 8/1875 [00:00<00:26, 71.76it/s]"
     ]
    },
    {
     "name": "stdout",
     "output_type": "stream",
     "text": [
      "Epoch : 87; Loss = 11.32299"
     ]
    },
    {
     "name": "stderr",
     "output_type": "stream",
     "text": [
      "100%|██████████| 1875/1875 [00:25<00:00, 73.63it/s]\n",
      "  0%|          | 7/1875 [00:00<00:26, 69.30it/s]"
     ]
    },
    {
     "name": "stdout",
     "output_type": "stream",
     "text": [
      "Epoch : 88; Loss = 11.29238"
     ]
    },
    {
     "name": "stderr",
     "output_type": "stream",
     "text": [
      "100%|██████████| 1875/1875 [00:26<00:00, 71.97it/s]\n",
      "  0%|          | 7/1875 [00:00<00:26, 69.64it/s]"
     ]
    },
    {
     "name": "stdout",
     "output_type": "stream",
     "text": [
      "Epoch : 89; Loss = 11.30376"
     ]
    },
    {
     "name": "stderr",
     "output_type": "stream",
     "text": [
      "100%|██████████| 1875/1875 [00:25<00:00, 72.54it/s]\n",
      "  0%|          | 8/1875 [00:00<00:26, 71.76it/s]"
     ]
    },
    {
     "name": "stdout",
     "output_type": "stream",
     "text": [
      "Epoch : 90; Loss = 11.28657"
     ]
    },
    {
     "name": "stderr",
     "output_type": "stream",
     "text": [
      "100%|██████████| 1875/1875 [00:26<00:00, 72.08it/s]\n",
      "  0%|          | 8/1875 [00:00<00:25, 73.97it/s]"
     ]
    },
    {
     "name": "stdout",
     "output_type": "stream",
     "text": [
      "Epoch : 91; Loss = 11.26356"
     ]
    },
    {
     "name": "stderr",
     "output_type": "stream",
     "text": [
      "100%|██████████| 1875/1875 [00:25<00:00, 72.15it/s]\n",
      "  0%|          | 8/1875 [00:00<00:26, 70.32it/s]"
     ]
    },
    {
     "name": "stdout",
     "output_type": "stream",
     "text": [
      "Epoch : 92; Loss = 11.2687"
     ]
    },
    {
     "name": "stderr",
     "output_type": "stream",
     "text": [
      "100%|██████████| 1875/1875 [00:25<00:00, 72.29it/s]\n",
      "  0%|          | 8/1875 [00:00<00:26, 71.35it/s]"
     ]
    },
    {
     "name": "stdout",
     "output_type": "stream",
     "text": [
      "Epoch : 93; Loss = 11.30915"
     ]
    },
    {
     "name": "stderr",
     "output_type": "stream",
     "text": [
      "100%|██████████| 1875/1875 [00:26<00:00, 72.10it/s]\n",
      "  0%|          | 8/1875 [00:00<00:25, 72.17it/s]"
     ]
    },
    {
     "name": "stdout",
     "output_type": "stream",
     "text": [
      "Epoch : 94; Loss = 11.27832"
     ]
    },
    {
     "name": "stderr",
     "output_type": "stream",
     "text": [
      "100%|██████████| 1875/1875 [00:25<00:00, 72.25it/s]\n",
      "  0%|          | 8/1875 [00:00<00:25, 72.41it/s]"
     ]
    },
    {
     "name": "stdout",
     "output_type": "stream",
     "text": [
      "Epoch : 95; Loss = 11.26426"
     ]
    },
    {
     "name": "stderr",
     "output_type": "stream",
     "text": [
      "100%|██████████| 1875/1875 [00:25<00:00, 73.25it/s]\n",
      "  0%|          | 8/1875 [00:00<00:26, 71.16it/s]"
     ]
    },
    {
     "name": "stdout",
     "output_type": "stream",
     "text": [
      "Epoch : 96; Loss = 11.21978"
     ]
    },
    {
     "name": "stderr",
     "output_type": "stream",
     "text": [
      "100%|██████████| 1875/1875 [00:25<00:00, 73.13it/s]\n",
      "  0%|          | 8/1875 [00:00<00:26, 70.53it/s]"
     ]
    },
    {
     "name": "stdout",
     "output_type": "stream",
     "text": [
      "Epoch : 97; Loss = 11.26205"
     ]
    },
    {
     "name": "stderr",
     "output_type": "stream",
     "text": [
      "100%|██████████| 1875/1875 [00:25<00:00, 72.85it/s]\n",
      "  0%|          | 7/1875 [00:00<00:27, 68.99it/s]"
     ]
    },
    {
     "name": "stdout",
     "output_type": "stream",
     "text": [
      "Epoch : 98; Loss = 11.24513"
     ]
    },
    {
     "name": "stderr",
     "output_type": "stream",
     "text": [
      "100%|██████████| 1875/1875 [00:25<00:00, 73.14it/s]\n",
      "  0%|          | 7/1875 [00:00<00:27, 69.01it/s]"
     ]
    },
    {
     "name": "stdout",
     "output_type": "stream",
     "text": [
      "Epoch : 99; Loss = 11.23318"
     ]
    },
    {
     "name": "stderr",
     "output_type": "stream",
     "text": [
      "100%|██████████| 1875/1875 [00:25<00:00, 72.86it/s]\n",
      "  0%|          | 8/1875 [00:00<00:25, 73.91it/s]"
     ]
    },
    {
     "name": "stdout",
     "output_type": "stream",
     "text": [
      "Epoch : 100; Loss = 11.26085"
     ]
    },
    {
     "name": "stderr",
     "output_type": "stream",
     "text": [
      "100%|██████████| 1875/1875 [00:25<00:00, 72.94it/s]\n",
      "  0%|          | 7/1875 [00:00<00:27, 68.04it/s]"
     ]
    },
    {
     "name": "stdout",
     "output_type": "stream",
     "text": [
      "Epoch : 101; Loss = 11.20612"
     ]
    },
    {
     "name": "stderr",
     "output_type": "stream",
     "text": [
      "100%|██████████| 1875/1875 [00:25<00:00, 72.73it/s]\n",
      "  0%|          | 7/1875 [00:00<00:27, 68.19it/s]"
     ]
    },
    {
     "name": "stdout",
     "output_type": "stream",
     "text": [
      "Epoch : 102; Loss = 11.25382"
     ]
    },
    {
     "name": "stderr",
     "output_type": "stream",
     "text": [
      "100%|██████████| 1875/1875 [00:25<00:00, 72.76it/s]\n",
      "  0%|          | 8/1875 [00:00<00:25, 73.45it/s]"
     ]
    },
    {
     "name": "stdout",
     "output_type": "stream",
     "text": [
      "Epoch : 103; Loss = 11.20957"
     ]
    },
    {
     "name": "stderr",
     "output_type": "stream",
     "text": [
      "100%|██████████| 1875/1875 [00:25<00:00, 72.59it/s]\n",
      "  0%|          | 8/1875 [00:00<00:25, 72.43it/s]"
     ]
    },
    {
     "name": "stdout",
     "output_type": "stream",
     "text": [
      "Epoch : 104; Loss = 11.23519"
     ]
    },
    {
     "name": "stderr",
     "output_type": "stream",
     "text": [
      "100%|██████████| 1875/1875 [00:25<00:00, 72.65it/s]\n",
      "  0%|          | 8/1875 [00:00<00:25, 72.46it/s]"
     ]
    },
    {
     "name": "stdout",
     "output_type": "stream",
     "text": [
      "Epoch : 105; Loss = 11.15069"
     ]
    },
    {
     "name": "stderr",
     "output_type": "stream",
     "text": [
      "100%|██████████| 1875/1875 [00:25<00:00, 72.57it/s]\n",
      "  0%|          | 8/1875 [00:00<00:25, 73.56it/s]"
     ]
    },
    {
     "name": "stdout",
     "output_type": "stream",
     "text": [
      "Epoch : 106; Loss = 11.27536"
     ]
    },
    {
     "name": "stderr",
     "output_type": "stream",
     "text": [
      "100%|██████████| 1875/1875 [00:26<00:00, 71.47it/s]\n",
      "  0%|          | 8/1875 [00:00<00:26, 71.35it/s]"
     ]
    },
    {
     "name": "stdout",
     "output_type": "stream",
     "text": [
      "Epoch : 107; Loss = 11.21905"
     ]
    },
    {
     "name": "stderr",
     "output_type": "stream",
     "text": [
      "100%|██████████| 1875/1875 [00:26<00:00, 71.96it/s]\n",
      "  0%|          | 7/1875 [00:00<00:27, 69.06it/s]"
     ]
    },
    {
     "name": "stdout",
     "output_type": "stream",
     "text": [
      "Epoch : 108; Loss = 11.209"
     ]
    },
    {
     "name": "stderr",
     "output_type": "stream",
     "text": [
      "100%|██████████| 1875/1875 [00:26<00:00, 71.16it/s]\n",
      "  0%|          | 8/1875 [00:00<00:26, 70.79it/s]"
     ]
    },
    {
     "name": "stdout",
     "output_type": "stream",
     "text": [
      "Epoch : 109; Loss = 11.21479"
     ]
    },
    {
     "name": "stderr",
     "output_type": "stream",
     "text": [
      "100%|██████████| 1875/1875 [00:26<00:00, 70.41it/s]\n",
      "  0%|          | 7/1875 [00:00<00:27, 69.06it/s]"
     ]
    },
    {
     "name": "stdout",
     "output_type": "stream",
     "text": [
      "Epoch : 110; Loss = 11.22933"
     ]
    },
    {
     "name": "stderr",
     "output_type": "stream",
     "text": [
      "100%|██████████| 1875/1875 [00:26<00:00, 70.82it/s]\n",
      "  0%|          | 7/1875 [00:00<00:27, 68.71it/s]"
     ]
    },
    {
     "name": "stdout",
     "output_type": "stream",
     "text": [
      "Epoch : 111; Loss = 11.16295"
     ]
    },
    {
     "name": "stderr",
     "output_type": "stream",
     "text": [
      "100%|██████████| 1875/1875 [00:26<00:00, 71.32it/s]\n",
      "  0%|          | 7/1875 [00:00<00:27, 67.53it/s]"
     ]
    },
    {
     "name": "stdout",
     "output_type": "stream",
     "text": [
      "Epoch : 112; Loss = 11.2046"
     ]
    },
    {
     "name": "stderr",
     "output_type": "stream",
     "text": [
      "100%|██████████| 1875/1875 [00:26<00:00, 70.50it/s]\n",
      "  0%|          | 7/1875 [00:00<00:26, 69.65it/s]"
     ]
    },
    {
     "name": "stdout",
     "output_type": "stream",
     "text": [
      "Epoch : 113; Loss = 11.16146"
     ]
    },
    {
     "name": "stderr",
     "output_type": "stream",
     "text": [
      "100%|██████████| 1875/1875 [00:26<00:00, 71.48it/s]\n",
      "  0%|          | 7/1875 [00:00<00:27, 68.57it/s]"
     ]
    },
    {
     "name": "stdout",
     "output_type": "stream",
     "text": [
      "Epoch : 114; Loss = 11.21038"
     ]
    },
    {
     "name": "stderr",
     "output_type": "stream",
     "text": [
      "100%|██████████| 1875/1875 [00:26<00:00, 70.80it/s]\n",
      "  0%|          | 7/1875 [00:00<00:27, 67.79it/s]"
     ]
    },
    {
     "name": "stdout",
     "output_type": "stream",
     "text": [
      "Epoch : 115; Loss = 11.16956"
     ]
    },
    {
     "name": "stderr",
     "output_type": "stream",
     "text": [
      "100%|██████████| 1875/1875 [00:26<00:00, 71.23it/s]\n",
      "  0%|          | 7/1875 [00:00<00:27, 67.86it/s]"
     ]
    },
    {
     "name": "stdout",
     "output_type": "stream",
     "text": [
      "Epoch : 116; Loss = 11.18245"
     ]
    },
    {
     "name": "stderr",
     "output_type": "stream",
     "text": [
      "100%|██████████| 1875/1875 [00:26<00:00, 71.66it/s]\n",
      "  0%|          | 7/1875 [00:00<00:27, 68.60it/s]"
     ]
    },
    {
     "name": "stdout",
     "output_type": "stream",
     "text": [
      "Epoch : 117; Loss = 11.17556"
     ]
    },
    {
     "name": "stderr",
     "output_type": "stream",
     "text": [
      "100%|██████████| 1875/1875 [00:26<00:00, 71.45it/s]\n",
      "  0%|          | 7/1875 [00:00<00:26, 69.81it/s]"
     ]
    },
    {
     "name": "stdout",
     "output_type": "stream",
     "text": [
      "Epoch : 118; Loss = 11.18287"
     ]
    },
    {
     "name": "stderr",
     "output_type": "stream",
     "text": [
      "100%|██████████| 1875/1875 [00:26<00:00, 71.64it/s]\n",
      "  0%|          | 7/1875 [00:00<00:26, 69.78it/s]"
     ]
    },
    {
     "name": "stdout",
     "output_type": "stream",
     "text": [
      "Epoch : 119; Loss = 11.19047"
     ]
    },
    {
     "name": "stderr",
     "output_type": "stream",
     "text": [
      "100%|██████████| 1875/1875 [00:26<00:00, 70.28it/s]\n",
      "  0%|          | 7/1875 [00:00<00:26, 69.24it/s]"
     ]
    },
    {
     "name": "stdout",
     "output_type": "stream",
     "text": [
      "Epoch : 120; Loss = 11.18977"
     ]
    },
    {
     "name": "stderr",
     "output_type": "stream",
     "text": [
      "100%|██████████| 1875/1875 [00:26<00:00, 70.81it/s]\n",
      "  0%|          | 8/1875 [00:00<00:26, 70.66it/s]"
     ]
    },
    {
     "name": "stdout",
     "output_type": "stream",
     "text": [
      "Epoch : 121; Loss = 11.158"
     ]
    },
    {
     "name": "stderr",
     "output_type": "stream",
     "text": [
      "100%|██████████| 1875/1875 [00:26<00:00, 71.29it/s]\n",
      "  0%|          | 7/1875 [00:00<00:27, 68.49it/s]"
     ]
    },
    {
     "name": "stdout",
     "output_type": "stream",
     "text": [
      "Epoch : 122; Loss = 11.16033"
     ]
    },
    {
     "name": "stderr",
     "output_type": "stream",
     "text": [
      "100%|██████████| 1875/1875 [00:26<00:00, 71.57it/s]\n",
      "  0%|          | 8/1875 [00:00<00:26, 71.18it/s]"
     ]
    },
    {
     "name": "stdout",
     "output_type": "stream",
     "text": [
      "Epoch : 123; Loss = 11.16495"
     ]
    },
    {
     "name": "stderr",
     "output_type": "stream",
     "text": [
      "100%|██████████| 1875/1875 [00:26<00:00, 71.41it/s]\n",
      "  0%|          | 7/1875 [00:00<00:29, 63.94it/s]"
     ]
    },
    {
     "name": "stdout",
     "output_type": "stream",
     "text": [
      "Epoch : 124; Loss = 11.16681"
     ]
    },
    {
     "name": "stderr",
     "output_type": "stream",
     "text": [
      "100%|██████████| 1875/1875 [00:26<00:00, 70.68it/s]\n",
      "  0%|          | 8/1875 [00:00<00:26, 71.60it/s]"
     ]
    },
    {
     "name": "stdout",
     "output_type": "stream",
     "text": [
      "Epoch : 125; Loss = 11.19377"
     ]
    },
    {
     "name": "stderr",
     "output_type": "stream",
     "text": [
      "100%|██████████| 1875/1875 [00:26<00:00, 70.48it/s]\n",
      "  1%|          | 14/1875 [00:00<00:27, 68.78it/s]"
     ]
    },
    {
     "name": "stdout",
     "output_type": "stream",
     "text": [
      "Epoch : 126; Loss = 11.13167"
     ]
    },
    {
     "name": "stderr",
     "output_type": "stream",
     "text": [
      "100%|██████████| 1875/1875 [00:26<00:00, 70.86it/s]\n",
      "  0%|          | 7/1875 [00:00<00:27, 67.48it/s]"
     ]
    },
    {
     "name": "stdout",
     "output_type": "stream",
     "text": [
      "Epoch : 127; Loss = 11.15607"
     ]
    },
    {
     "name": "stderr",
     "output_type": "stream",
     "text": [
      "100%|██████████| 1875/1875 [00:26<00:00, 71.09it/s]\n",
      "  0%|          | 7/1875 [00:00<00:27, 69.06it/s]"
     ]
    },
    {
     "name": "stdout",
     "output_type": "stream",
     "text": [
      "Epoch : 128; Loss = 11.14132"
     ]
    },
    {
     "name": "stderr",
     "output_type": "stream",
     "text": [
      "100%|██████████| 1875/1875 [00:26<00:00, 70.93it/s]\n",
      "  0%|          | 8/1875 [00:00<00:25, 71.98it/s]"
     ]
    },
    {
     "name": "stdout",
     "output_type": "stream",
     "text": [
      "Epoch : 129; Loss = 11.17203"
     ]
    },
    {
     "name": "stderr",
     "output_type": "stream",
     "text": [
      "100%|██████████| 1875/1875 [00:26<00:00, 70.69it/s]\n",
      "  0%|          | 8/1875 [00:00<00:26, 70.98it/s]"
     ]
    },
    {
     "name": "stdout",
     "output_type": "stream",
     "text": [
      "Epoch : 130; Loss = 11.11423"
     ]
    },
    {
     "name": "stderr",
     "output_type": "stream",
     "text": [
      "100%|██████████| 1875/1875 [00:26<00:00, 71.13it/s]\n",
      "  0%|          | 8/1875 [00:00<00:26, 71.78it/s]"
     ]
    },
    {
     "name": "stdout",
     "output_type": "stream",
     "text": [
      "Epoch : 131; Loss = 11.13297"
     ]
    },
    {
     "name": "stderr",
     "output_type": "stream",
     "text": [
      "100%|██████████| 1875/1875 [00:26<00:00, 69.79it/s]\n",
      "  0%|          | 7/1875 [00:00<00:26, 69.22it/s]"
     ]
    },
    {
     "name": "stdout",
     "output_type": "stream",
     "text": [
      "Epoch : 132; Loss = 11.1649"
     ]
    },
    {
     "name": "stderr",
     "output_type": "stream",
     "text": [
      "100%|██████████| 1875/1875 [00:30<00:00, 62.36it/s]\n",
      "  0%|          | 7/1875 [00:00<00:30, 61.56it/s]"
     ]
    },
    {
     "name": "stdout",
     "output_type": "stream",
     "text": [
      "Epoch : 133; Loss = 11.18397"
     ]
    },
    {
     "name": "stderr",
     "output_type": "stream",
     "text": [
      "100%|██████████| 1875/1875 [00:27<00:00, 68.28it/s]\n",
      "  0%|          | 7/1875 [00:00<00:26, 69.95it/s]"
     ]
    },
    {
     "name": "stdout",
     "output_type": "stream",
     "text": [
      "Epoch : 134; Loss = 11.14891"
     ]
    },
    {
     "name": "stderr",
     "output_type": "stream",
     "text": [
      "100%|██████████| 1875/1875 [00:26<00:00, 71.50it/s]\n",
      "  0%|          | 8/1875 [00:00<00:25, 72.13it/s]"
     ]
    },
    {
     "name": "stdout",
     "output_type": "stream",
     "text": [
      "Epoch : 135; Loss = 11.17411"
     ]
    },
    {
     "name": "stderr",
     "output_type": "stream",
     "text": [
      "100%|██████████| 1875/1875 [00:26<00:00, 71.34it/s]\n",
      "  0%|          | 8/1875 [00:00<00:25, 71.95it/s]"
     ]
    },
    {
     "name": "stdout",
     "output_type": "stream",
     "text": [
      "Epoch : 136; Loss = 11.14254"
     ]
    },
    {
     "name": "stderr",
     "output_type": "stream",
     "text": [
      "100%|██████████| 1875/1875 [00:26<00:00, 71.53it/s]\n",
      "  0%|          | 7/1875 [00:00<00:26, 69.64it/s]"
     ]
    },
    {
     "name": "stdout",
     "output_type": "stream",
     "text": [
      "Epoch : 137; Loss = 11.12516"
     ]
    },
    {
     "name": "stderr",
     "output_type": "stream",
     "text": [
      "100%|██████████| 1875/1875 [00:27<00:00, 69.23it/s]\n",
      "  0%|          | 7/1875 [00:00<00:28, 65.14it/s]"
     ]
    },
    {
     "name": "stdout",
     "output_type": "stream",
     "text": [
      "Epoch : 138; Loss = 11.16335"
     ]
    },
    {
     "name": "stderr",
     "output_type": "stream",
     "text": [
      "100%|██████████| 1875/1875 [00:26<00:00, 70.11it/s]\n",
      "  0%|          | 7/1875 [00:00<00:26, 69.29it/s]"
     ]
    },
    {
     "name": "stdout",
     "output_type": "stream",
     "text": [
      "Epoch : 139; Loss = 11.11397"
     ]
    },
    {
     "name": "stderr",
     "output_type": "stream",
     "text": [
      "100%|██████████| 1875/1875 [00:26<00:00, 70.64it/s]\n",
      "  0%|          | 7/1875 [00:00<00:27, 67.68it/s]"
     ]
    },
    {
     "name": "stdout",
     "output_type": "stream",
     "text": [
      "Epoch : 140; Loss = 11.12771"
     ]
    },
    {
     "name": "stderr",
     "output_type": "stream",
     "text": [
      "100%|██████████| 1875/1875 [00:26<00:00, 70.10it/s]\n",
      "  0%|          | 7/1875 [00:00<00:27, 67.45it/s]"
     ]
    },
    {
     "name": "stdout",
     "output_type": "stream",
     "text": [
      "Epoch : 141; Loss = 11.14807"
     ]
    },
    {
     "name": "stderr",
     "output_type": "stream",
     "text": [
      "100%|██████████| 1875/1875 [00:26<00:00, 69.67it/s]\n",
      "  0%|          | 7/1875 [00:00<00:27, 68.64it/s]"
     ]
    },
    {
     "name": "stdout",
     "output_type": "stream",
     "text": [
      "Epoch : 142; Loss = 11.09994"
     ]
    },
    {
     "name": "stderr",
     "output_type": "stream",
     "text": [
      "100%|██████████| 1875/1875 [00:26<00:00, 70.26it/s]\n",
      "  0%|          | 7/1875 [00:00<00:27, 68.46it/s]"
     ]
    },
    {
     "name": "stdout",
     "output_type": "stream",
     "text": [
      "Epoch : 143; Loss = 11.10549"
     ]
    },
    {
     "name": "stderr",
     "output_type": "stream",
     "text": [
      "100%|██████████| 1875/1875 [00:26<00:00, 69.86it/s]\n",
      "  0%|          | 7/1875 [00:00<00:27, 68.04it/s]"
     ]
    },
    {
     "name": "stdout",
     "output_type": "stream",
     "text": [
      "Epoch : 144; Loss = 11.17279"
     ]
    },
    {
     "name": "stderr",
     "output_type": "stream",
     "text": [
      "100%|██████████| 1875/1875 [00:26<00:00, 70.18it/s]\n",
      "  0%|          | 7/1875 [00:00<00:27, 67.22it/s]"
     ]
    },
    {
     "name": "stdout",
     "output_type": "stream",
     "text": [
      "Epoch : 145; Loss = 11.10513"
     ]
    },
    {
     "name": "stderr",
     "output_type": "stream",
     "text": [
      "100%|██████████| 1875/1875 [00:28<00:00, 65.19it/s]\n",
      "  0%|          | 6/1875 [00:00<00:31, 58.94it/s]"
     ]
    },
    {
     "name": "stdout",
     "output_type": "stream",
     "text": [
      "Epoch : 146; Loss = 11.10193"
     ]
    },
    {
     "name": "stderr",
     "output_type": "stream",
     "text": [
      "100%|██████████| 1875/1875 [00:26<00:00, 70.53it/s]\n",
      "  0%|          | 7/1875 [00:00<00:27, 68.03it/s]"
     ]
    },
    {
     "name": "stdout",
     "output_type": "stream",
     "text": [
      "Epoch : 147; Loss = 11.11661"
     ]
    },
    {
     "name": "stderr",
     "output_type": "stream",
     "text": [
      "100%|██████████| 1875/1875 [00:26<00:00, 71.09it/s]\n",
      "  0%|          | 8/1875 [00:00<00:25, 72.11it/s]"
     ]
    },
    {
     "name": "stdout",
     "output_type": "stream",
     "text": [
      "Epoch : 148; Loss = 11.0566"
     ]
    },
    {
     "name": "stderr",
     "output_type": "stream",
     "text": [
      "100%|██████████| 1875/1875 [00:26<00:00, 70.16it/s]\n",
      "  0%|          | 7/1875 [00:00<00:27, 68.15it/s]"
     ]
    },
    {
     "name": "stdout",
     "output_type": "stream",
     "text": [
      "Epoch : 149; Loss = 11.1245"
     ]
    },
    {
     "name": "stderr",
     "output_type": "stream",
     "text": [
      "100%|██████████| 1875/1875 [00:26<00:00, 70.42it/s]\n",
      "  0%|          | 7/1875 [00:00<00:29, 63.81it/s]"
     ]
    },
    {
     "name": "stdout",
     "output_type": "stream",
     "text": [
      "Epoch : 150; Loss = 11.10799"
     ]
    },
    {
     "name": "stderr",
     "output_type": "stream",
     "text": [
      "100%|██████████| 1875/1875 [00:26<00:00, 70.38it/s]\n",
      "  0%|          | 7/1875 [00:00<00:27, 68.14it/s]"
     ]
    },
    {
     "name": "stdout",
     "output_type": "stream",
     "text": [
      "Epoch : 151; Loss = 11.13708"
     ]
    },
    {
     "name": "stderr",
     "output_type": "stream",
     "text": [
      "100%|██████████| 1875/1875 [00:26<00:00, 69.63it/s]\n",
      "  0%|          | 7/1875 [00:00<00:28, 65.83it/s]"
     ]
    },
    {
     "name": "stdout",
     "output_type": "stream",
     "text": [
      "Epoch : 152; Loss = 11.11245"
     ]
    },
    {
     "name": "stderr",
     "output_type": "stream",
     "text": [
      "100%|██████████| 1875/1875 [00:26<00:00, 69.71it/s]\n",
      "  0%|          | 7/1875 [00:00<00:27, 68.34it/s]"
     ]
    },
    {
     "name": "stdout",
     "output_type": "stream",
     "text": [
      "Epoch : 153; Loss = 11.10522"
     ]
    },
    {
     "name": "stderr",
     "output_type": "stream",
     "text": [
      "100%|██████████| 1875/1875 [00:26<00:00, 70.27it/s]\n",
      "  0%|          | 8/1875 [00:00<00:26, 69.95it/s]"
     ]
    },
    {
     "name": "stdout",
     "output_type": "stream",
     "text": [
      "Epoch : 154; Loss = 11.06291"
     ]
    },
    {
     "name": "stderr",
     "output_type": "stream",
     "text": [
      "100%|██████████| 1875/1875 [00:26<00:00, 70.38it/s]\n",
      "  0%|          | 7/1875 [00:00<00:27, 68.33it/s]"
     ]
    },
    {
     "name": "stdout",
     "output_type": "stream",
     "text": [
      "Epoch : 155; Loss = 11.12411"
     ]
    },
    {
     "name": "stderr",
     "output_type": "stream",
     "text": [
      "100%|██████████| 1875/1875 [00:26<00:00, 70.50it/s]\n",
      "  0%|          | 7/1875 [00:00<00:27, 68.46it/s]"
     ]
    },
    {
     "name": "stdout",
     "output_type": "stream",
     "text": [
      "Epoch : 156; Loss = 11.08844"
     ]
    },
    {
     "name": "stderr",
     "output_type": "stream",
     "text": [
      "100%|██████████| 1875/1875 [00:26<00:00, 70.05it/s]\n",
      "  0%|          | 8/1875 [00:00<00:26, 69.66it/s]"
     ]
    },
    {
     "name": "stdout",
     "output_type": "stream",
     "text": [
      "Epoch : 157; Loss = 11.10948"
     ]
    },
    {
     "name": "stderr",
     "output_type": "stream",
     "text": [
      "100%|██████████| 1875/1875 [00:26<00:00, 70.73it/s]\n",
      "  0%|          | 7/1875 [00:00<00:27, 67.53it/s]"
     ]
    },
    {
     "name": "stdout",
     "output_type": "stream",
     "text": [
      "Epoch : 158; Loss = 11.06749"
     ]
    },
    {
     "name": "stderr",
     "output_type": "stream",
     "text": [
      "100%|██████████| 1875/1875 [00:28<00:00, 65.25it/s]\n",
      "  0%|          | 5/1875 [00:00<00:40, 45.90it/s]"
     ]
    },
    {
     "name": "stdout",
     "output_type": "stream",
     "text": [
      "Epoch : 159; Loss = 11.08474"
     ]
    },
    {
     "name": "stderr",
     "output_type": "stream",
     "text": [
      "100%|██████████| 1875/1875 [00:27<00:00, 69.35it/s]\n",
      "  0%|          | 7/1875 [00:00<00:27, 68.53it/s]"
     ]
    },
    {
     "name": "stdout",
     "output_type": "stream",
     "text": [
      "Epoch : 160; Loss = 11.07789"
     ]
    },
    {
     "name": "stderr",
     "output_type": "stream",
     "text": [
      "100%|██████████| 1875/1875 [00:26<00:00, 70.47it/s]\n",
      "  0%|          | 8/1875 [00:00<00:26, 71.49it/s]"
     ]
    },
    {
     "name": "stdout",
     "output_type": "stream",
     "text": [
      "Epoch : 161; Loss = 11.07874"
     ]
    },
    {
     "name": "stderr",
     "output_type": "stream",
     "text": [
      "100%|██████████| 1875/1875 [00:31<00:00, 60.13it/s]\n",
      "  0%|          | 5/1875 [00:00<00:39, 47.03it/s]"
     ]
    },
    {
     "name": "stdout",
     "output_type": "stream",
     "text": [
      "Epoch : 162; Loss = 11.11744"
     ]
    },
    {
     "name": "stderr",
     "output_type": "stream",
     "text": [
      "100%|██████████| 1875/1875 [00:28<00:00, 65.56it/s]\n",
      "  0%|          | 7/1875 [00:00<00:28, 65.95it/s]"
     ]
    },
    {
     "name": "stdout",
     "output_type": "stream",
     "text": [
      "Epoch : 163; Loss = 11.07203"
     ]
    },
    {
     "name": "stderr",
     "output_type": "stream",
     "text": [
      "100%|██████████| 1875/1875 [00:28<00:00, 66.36it/s]\n",
      "  0%|          | 7/1875 [00:00<00:27, 68.44it/s]"
     ]
    },
    {
     "name": "stdout",
     "output_type": "stream",
     "text": [
      "Epoch : 164; Loss = 11.10482"
     ]
    },
    {
     "name": "stderr",
     "output_type": "stream",
     "text": [
      "100%|██████████| 1875/1875 [00:30<00:00, 60.85it/s]\n",
      "  0%|          | 7/1875 [00:00<00:28, 66.60it/s]"
     ]
    },
    {
     "name": "stdout",
     "output_type": "stream",
     "text": [
      "Epoch : 165; Loss = 11.08159"
     ]
    },
    {
     "name": "stderr",
     "output_type": "stream",
     "text": [
      "100%|██████████| 1875/1875 [00:29<00:00, 63.86it/s]\n",
      "  0%|          | 7/1875 [00:00<00:28, 64.63it/s]"
     ]
    },
    {
     "name": "stdout",
     "output_type": "stream",
     "text": [
      "Epoch : 166; Loss = 11.06493"
     ]
    },
    {
     "name": "stderr",
     "output_type": "stream",
     "text": [
      "100%|██████████| 1875/1875 [00:28<00:00, 66.76it/s]\n",
      "  0%|          | 7/1875 [00:00<00:27, 68.35it/s]"
     ]
    },
    {
     "name": "stdout",
     "output_type": "stream",
     "text": [
      "Epoch : 167; Loss = 11.09037"
     ]
    },
    {
     "name": "stderr",
     "output_type": "stream",
     "text": [
      "100%|██████████| 1875/1875 [00:32<00:00, 58.20it/s]\n",
      "  0%|          | 5/1875 [00:00<00:38, 49.17it/s]"
     ]
    },
    {
     "name": "stdout",
     "output_type": "stream",
     "text": [
      "Epoch : 168; Loss = 11.08972"
     ]
    },
    {
     "name": "stderr",
     "output_type": "stream",
     "text": [
      "100%|██████████| 1875/1875 [00:35<00:00, 52.63it/s]\n",
      "  0%|          | 5/1875 [00:00<00:42, 43.94it/s]"
     ]
    },
    {
     "name": "stdout",
     "output_type": "stream",
     "text": [
      "Epoch : 169; Loss = 11.08827"
     ]
    },
    {
     "name": "stderr",
     "output_type": "stream",
     "text": [
      "100%|██████████| 1875/1875 [00:36<00:00, 50.82it/s]\n",
      "  0%|          | 7/1875 [00:00<00:29, 62.96it/s]"
     ]
    },
    {
     "name": "stdout",
     "output_type": "stream",
     "text": [
      "Epoch : 170; Loss = 11.0663"
     ]
    },
    {
     "name": "stderr",
     "output_type": "stream",
     "text": [
      "100%|██████████| 1875/1875 [00:28<00:00, 64.89it/s]\n",
      "  0%|          | 7/1875 [00:00<00:27, 68.73it/s]"
     ]
    },
    {
     "name": "stdout",
     "output_type": "stream",
     "text": [
      "Epoch : 171; Loss = 11.03881"
     ]
    },
    {
     "name": "stderr",
     "output_type": "stream",
     "text": [
      "100%|██████████| 1875/1875 [00:28<00:00, 65.12it/s]\n",
      "  0%|          | 6/1875 [00:00<00:31, 58.49it/s]"
     ]
    },
    {
     "name": "stdout",
     "output_type": "stream",
     "text": [
      "Epoch : 172; Loss = 11.09294"
     ]
    },
    {
     "name": "stderr",
     "output_type": "stream",
     "text": [
      "100%|██████████| 1875/1875 [00:31<00:00, 59.49it/s]\n",
      "  0%|          | 6/1875 [00:00<00:31, 59.85it/s]"
     ]
    },
    {
     "name": "stdout",
     "output_type": "stream",
     "text": [
      "Epoch : 173; Loss = 11.04943"
     ]
    },
    {
     "name": "stderr",
     "output_type": "stream",
     "text": [
      "100%|██████████| 1875/1875 [00:28<00:00, 65.78it/s]\n",
      "  0%|          | 6/1875 [00:00<00:34, 54.33it/s]"
     ]
    },
    {
     "name": "stdout",
     "output_type": "stream",
     "text": [
      "Epoch : 174; Loss = 11.05553"
     ]
    },
    {
     "name": "stderr",
     "output_type": "stream",
     "text": [
      "100%|██████████| 1875/1875 [00:27<00:00, 67.31it/s]\n",
      "  0%|          | 8/1875 [00:00<00:25, 72.71it/s]"
     ]
    },
    {
     "name": "stdout",
     "output_type": "stream",
     "text": [
      "Epoch : 175; Loss = 11.0682"
     ]
    },
    {
     "name": "stderr",
     "output_type": "stream",
     "text": [
      "100%|██████████| 1875/1875 [00:27<00:00, 69.31it/s]\n",
      "  0%|          | 7/1875 [00:00<00:26, 69.54it/s]"
     ]
    },
    {
     "name": "stdout",
     "output_type": "stream",
     "text": [
      "Epoch : 176; Loss = 11.08587"
     ]
    },
    {
     "name": "stderr",
     "output_type": "stream",
     "text": [
      "100%|██████████| 1875/1875 [00:28<00:00, 64.77it/s]\n",
      "  0%|          | 6/1875 [00:00<00:33, 56.19it/s]"
     ]
    },
    {
     "name": "stdout",
     "output_type": "stream",
     "text": [
      "Epoch : 177; Loss = 11.06529"
     ]
    },
    {
     "name": "stderr",
     "output_type": "stream",
     "text": [
      "100%|██████████| 1875/1875 [00:28<00:00, 66.16it/s]\n",
      "  0%|          | 7/1875 [00:00<00:28, 65.53it/s]"
     ]
    },
    {
     "name": "stdout",
     "output_type": "stream",
     "text": [
      "Epoch : 178; Loss = 11.01473"
     ]
    },
    {
     "name": "stderr",
     "output_type": "stream",
     "text": [
      "100%|██████████| 1875/1875 [00:27<00:00, 68.13it/s]\n",
      "  0%|          | 8/1875 [00:00<00:26, 70.05it/s]"
     ]
    },
    {
     "name": "stdout",
     "output_type": "stream",
     "text": [
      "Epoch : 179; Loss = 11.06626"
     ]
    },
    {
     "name": "stderr",
     "output_type": "stream",
     "text": [
      "100%|██████████| 1875/1875 [00:26<00:00, 69.68it/s]\n",
      "  0%|          | 7/1875 [00:00<00:26, 69.66it/s]"
     ]
    },
    {
     "name": "stdout",
     "output_type": "stream",
     "text": [
      "Epoch : 180; Loss = 11.01899"
     ]
    },
    {
     "name": "stderr",
     "output_type": "stream",
     "text": [
      "100%|██████████| 1875/1875 [00:27<00:00, 67.63it/s]\n",
      "  0%|          | 7/1875 [00:00<00:27, 69.09it/s]"
     ]
    },
    {
     "name": "stdout",
     "output_type": "stream",
     "text": [
      "Epoch : 181; Loss = 11.06403"
     ]
    },
    {
     "name": "stderr",
     "output_type": "stream",
     "text": [
      "100%|██████████| 1875/1875 [00:26<00:00, 71.15it/s]\n",
      "  0%|          | 7/1875 [00:00<00:28, 66.28it/s]"
     ]
    },
    {
     "name": "stdout",
     "output_type": "stream",
     "text": [
      "Epoch : 182; Loss = 11.0116"
     ]
    },
    {
     "name": "stderr",
     "output_type": "stream",
     "text": [
      "100%|██████████| 1875/1875 [00:27<00:00, 69.42it/s]\n",
      "  0%|          | 7/1875 [00:00<00:27, 68.78it/s]"
     ]
    },
    {
     "name": "stdout",
     "output_type": "stream",
     "text": [
      "Epoch : 183; Loss = 11.07812"
     ]
    },
    {
     "name": "stderr",
     "output_type": "stream",
     "text": [
      "100%|██████████| 1875/1875 [00:29<00:00, 62.52it/s]\n",
      "  0%|          | 6/1875 [00:00<00:31, 59.88it/s]"
     ]
    },
    {
     "name": "stdout",
     "output_type": "stream",
     "text": [
      "Epoch : 184; Loss = 11.0542"
     ]
    },
    {
     "name": "stderr",
     "output_type": "stream",
     "text": [
      "100%|██████████| 1875/1875 [00:29<00:00, 63.85it/s]\n",
      "  0%|          | 7/1875 [00:00<00:29, 63.10it/s]"
     ]
    },
    {
     "name": "stdout",
     "output_type": "stream",
     "text": [
      "Epoch : 185; Loss = 11.02974"
     ]
    },
    {
     "name": "stderr",
     "output_type": "stream",
     "text": [
      "100%|██████████| 1875/1875 [00:30<00:00, 62.33it/s]\n",
      "  0%|          | 7/1875 [00:00<00:29, 63.64it/s]"
     ]
    },
    {
     "name": "stdout",
     "output_type": "stream",
     "text": [
      "Epoch : 186; Loss = 11.07996"
     ]
    },
    {
     "name": "stderr",
     "output_type": "stream",
     "text": [
      "100%|██████████| 1875/1875 [00:29<00:00, 63.57it/s]\n",
      "  0%|          | 7/1875 [00:00<00:29, 62.54it/s]"
     ]
    },
    {
     "name": "stdout",
     "output_type": "stream",
     "text": [
      "Epoch : 187; Loss = 10.98991"
     ]
    },
    {
     "name": "stderr",
     "output_type": "stream",
     "text": [
      "100%|██████████| 1875/1875 [00:28<00:00, 65.78it/s]\n",
      "  0%|          | 7/1875 [00:00<00:26, 69.42it/s]"
     ]
    },
    {
     "name": "stdout",
     "output_type": "stream",
     "text": [
      "Epoch : 188; Loss = 11.04353"
     ]
    },
    {
     "name": "stderr",
     "output_type": "stream",
     "text": [
      "100%|██████████| 1875/1875 [00:27<00:00, 67.36it/s]\n",
      "  0%|          | 7/1875 [00:00<00:27, 67.06it/s]"
     ]
    },
    {
     "name": "stdout",
     "output_type": "stream",
     "text": [
      "Epoch : 189; Loss = 11.06572"
     ]
    },
    {
     "name": "stderr",
     "output_type": "stream",
     "text": [
      "100%|██████████| 1875/1875 [00:29<00:00, 64.02it/s]\n",
      "  0%|          | 6/1875 [00:00<00:31, 58.62it/s]"
     ]
    },
    {
     "name": "stdout",
     "output_type": "stream",
     "text": [
      "Epoch : 190; Loss = 11.02996"
     ]
    },
    {
     "name": "stderr",
     "output_type": "stream",
     "text": [
      "100%|██████████| 1875/1875 [00:29<00:00, 64.08it/s]\n",
      "  0%|          | 5/1875 [00:00<00:40, 46.39it/s]"
     ]
    },
    {
     "name": "stdout",
     "output_type": "stream",
     "text": [
      "Epoch : 191; Loss = 11.10352"
     ]
    },
    {
     "name": "stderr",
     "output_type": "stream",
     "text": [
      "100%|██████████| 1875/1875 [00:28<00:00, 65.05it/s]\n",
      "  0%|          | 7/1875 [00:00<00:28, 64.60it/s]"
     ]
    },
    {
     "name": "stdout",
     "output_type": "stream",
     "text": [
      "Epoch : 192; Loss = 11.00408"
     ]
    },
    {
     "name": "stderr",
     "output_type": "stream",
     "text": [
      "100%|██████████| 1875/1875 [00:27<00:00, 68.38it/s]\n",
      "  0%|          | 7/1875 [00:00<00:27, 68.21it/s]"
     ]
    },
    {
     "name": "stdout",
     "output_type": "stream",
     "text": [
      "Epoch : 193; Loss = 11.00783"
     ]
    },
    {
     "name": "stderr",
     "output_type": "stream",
     "text": [
      "100%|██████████| 1875/1875 [00:26<00:00, 70.11it/s]\n",
      "  0%|          | 8/1875 [00:00<00:25, 73.50it/s]"
     ]
    },
    {
     "name": "stdout",
     "output_type": "stream",
     "text": [
      "Epoch : 194; Loss = 11.03695"
     ]
    },
    {
     "name": "stderr",
     "output_type": "stream",
     "text": [
      "100%|██████████| 1875/1875 [00:25<00:00, 73.24it/s]\n",
      "  0%|          | 7/1875 [00:00<00:27, 67.90it/s]"
     ]
    },
    {
     "name": "stdout",
     "output_type": "stream",
     "text": [
      "Epoch : 195; Loss = 10.99459"
     ]
    },
    {
     "name": "stderr",
     "output_type": "stream",
     "text": [
      "100%|██████████| 1875/1875 [00:28<00:00, 65.96it/s]\n",
      "  0%|          | 6/1875 [00:00<00:32, 58.33it/s]"
     ]
    },
    {
     "name": "stdout",
     "output_type": "stream",
     "text": [
      "Epoch : 196; Loss = 11.05377"
     ]
    },
    {
     "name": "stderr",
     "output_type": "stream",
     "text": [
      "100%|██████████| 1875/1875 [00:26<00:00, 72.01it/s]\n",
      "  0%|          | 8/1875 [00:00<00:25, 72.51it/s]"
     ]
    },
    {
     "name": "stdout",
     "output_type": "stream",
     "text": [
      "Epoch : 197; Loss = 11.05888"
     ]
    },
    {
     "name": "stderr",
     "output_type": "stream",
     "text": [
      "100%|██████████| 1875/1875 [00:25<00:00, 72.81it/s]\n",
      "  0%|          | 8/1875 [00:00<00:25, 73.94it/s]"
     ]
    },
    {
     "name": "stdout",
     "output_type": "stream",
     "text": [
      "Epoch : 198; Loss = 10.98963"
     ]
    },
    {
     "name": "stderr",
     "output_type": "stream",
     "text": [
      "100%|██████████| 1875/1875 [00:25<00:00, 73.26it/s]\n",
      "  0%|          | 8/1875 [00:00<00:25, 74.45it/s]"
     ]
    },
    {
     "name": "stdout",
     "output_type": "stream",
     "text": [
      "Epoch : 199; Loss = 11.09557"
     ]
    },
    {
     "name": "stderr",
     "output_type": "stream",
     "text": [
      "100%|██████████| 1875/1875 [00:26<00:00, 69.71it/s]\n",
      "  0%|          | 8/1875 [00:00<00:25, 74.46it/s]"
     ]
    },
    {
     "name": "stdout",
     "output_type": "stream",
     "text": [
      "Epoch : 200; Loss = 11.00872"
     ]
    },
    {
     "name": "stderr",
     "output_type": "stream",
     "text": [
      "100%|██████████| 1875/1875 [00:26<00:00, 70.66it/s]\n"
     ]
    }
   ],
   "source": [
    "cost = train(trainloader)"
   ]
  },
  {
   "cell_type": "code",
   "execution_count": 15,
   "metadata": {},
   "outputs": [
    {
     "data": {
      "image/png": "[encoded data removed]",
      "text/plain": [
       "<Figure size 432x288 with 1 Axes>"
      ]
     },
     "metadata": {
      "needs_background": "light"
     },
     "output_type": "display_data"
    }
   ],
   "source": [
    "plt.title(\"Loss per epoch\")\n",
    "plt.plot(cost)\n",
    "plt.show()"
   ]
  },
  {
   "cell_type": "markdown",
   "metadata": {},
   "source": [
    "## Step 5. Test model"
   ]
  },
  {
   "cell_type": "code",
   "execution_count": 16,
   "metadata": {},
   "outputs": [],
   "source": [
    "def test(feature_matrix):\n",
    "    \"\"\"Compresses images where feature_matrix represents noisy and original images\"\"\"\n",
    "    noisy, clean = feature_matrix\n",
    "    \n",
    "    compressed_images = [] #encoder\n",
    "    reconstructed_images = [] #autoencoder\n",
    "    \n",
    "    total_loss = 0\n",
    "    for img, c_img in tqdm(zip(noisy, clean)):\n",
    "        img = torch.from_numpy(img).float().squeeze(0).flatten().to(device)\n",
    "        c_img = torch.from_numpy(c_img).float().squeeze(0).flatten().to(device)\n",
    "        \n",
    "        #get compressed image from encoder part of network\n",
    "        compressed_output = model.encoder(img)\n",
    "        \n",
    "        output = model(img)\n",
    "        \n",
    "        loss_output = loss(output, c_img) #generate MSE error\n",
    "        \n",
    "        output = output.view(1,28,28)\n",
    "        output = output.permute(1,2,0).squeeze(2)\n",
    "        output = output.detach().cpu().numpy()\n",
    "        reconstructed_images.append(output) #append compressed reconstructed image\n",
    "        \n",
    "        \n",
    "        compressed_output = compressed_output.view(1,8,8)\n",
    "        compressed_output = compressed_output.permute(1,2,0).squeeze(2)\n",
    "        compressed_output = compressed_output.detach().cpu().numpy()\n",
    "        compressed_images.append(compressed_output) #append bottleneck output\n",
    "        \n",
    "        total_loss += loss_output.item()\n",
    "    \n",
    "    return np.array(compressed_images), np.array(reconstructed_images), total_loss"
   ]
  },
  {
   "cell_type": "code",
   "execution_count": 17,
   "metadata": {},
   "outputs": [
    {
     "name": "stderr",
     "output_type": "stream",
     "text": [
      "10000it [00:06, 1439.96it/s]\n"
     ]
    }
   ],
   "source": [
    "compressed_images, reconstructed_images, cost = test((noisy_X_test, X_test))"
   ]
  },
  {
   "cell_type": "code",
   "execution_count": 18,
   "metadata": {},
   "outputs": [],
   "source": [
    "def visualize(original_images, noisy_images, reconstructed_images, compressed_images, N=5):\n",
    "    \"\"\"\n",
    "    Visualization only.\n",
    "    Displays plots of N random images alongside compressed and original image.\n",
    "    \"\"\"\n",
    "    ## gather random images\n",
    "    random_images = np.random.randint(0,len(compressed_images), size=N)\n",
    "\n",
    "    ### display images\n",
    "    f, axes = plt.subplots(N, 4, figsize=(20, 20))\n",
    "    axes[0,0].set_title(\"Original Image\")\n",
    "    axes[0,1].set_title(\"Noisy Image\")\n",
    "    axes[0,2].set_title(\"Compressed Image\")\n",
    "    axes[0,3].set_title(\"Reconstructed Image\")\n",
    "    \n",
    "    for i in range(N):\n",
    "        c = compressed_images[random_images[i]] #compressed image\n",
    "        o = original_images[random_images[i]] #original image\n",
    "        r = reconstructed_images[random_images[i]] #reconstructed image\n",
    "        n = noisy_images[random_images[i]] #noisy image\n",
    "        \n",
    "        axes[i, 0].imshow(o, cmap=\"gray\") #DISPLAY ORIGINAL IMAGE\n",
    "        axes[i, 1].imshow(n, cmap=\"gray\") #DISPLAY NOISY IMAGE\n",
    "        axes[i, 2].imshow(c, cmap=\"gray\") #DISPLAY COMPRESSED IMAGE\n",
    "        axes[i, 3].imshow(r, cmap=\"gray\") #DISPLAY RECONSTRUCTED IMAGE\n",
    "        \n",
    "    \n",
    "    # remove the x and y ticks\n",
    "    loc = tkt.NullLocator()\n",
    "\n",
    "    for ax in axes:\n",
    "        for x in ax:\n",
    "            x.yaxis.set_major_locator(loc)\n",
    "            x.xaxis.set_major_locator(loc)\n",
    "        \n",
    "    plt.show()"
   ]
  },
  {
   "cell_type": "code",
   "execution_count": 19,
   "metadata": {},
   "outputs": [
    {
     "data": {
      "image/png": "[encoded data removed]",
      "text/plain": [
       "<Figure size 1440x1440 with 20 Axes>"
      ]
     },
     "metadata": {},
     "output_type": "display_data"
    }
   ],
   "source": [
    "visualize(X_test, noisy_X_test, reconstructed_images, compressed_images) #visualize output"
   ]
  },
  {
   "cell_type": "markdown",
   "metadata": {},
   "source": [
    "## Test any image"
   ]
  },
  {
   "cell_type": "code",
   "execution_count": 20,
   "metadata": {},
   "outputs": [],
   "source": [
    "def compress_image(img):\n",
    "    \"\"\"\n",
    "    Compress an image using Deep Denoising Compressive Autoencoder\n",
    "    \"\"\"\n",
    "    if(type(img) == str): #load image first\n",
    "        img = 255*rgb2gray(np.array(cv2.imread(img)))\n",
    "    \n",
    "    #resize to 28x28\n",
    "    img = cv2.resize(img, (28, 28), interpolation = cv2.INTER_AREA)\n",
    "    \n",
    "    #convert to tensor\n",
    "    output = torch.from_numpy(noise(img)).float().squeeze(0).flatten().to(device)\n",
    "    \n",
    "    output = model(output)\n",
    "    \n",
    "    #convert back to nd.array\n",
    "    output = output.view(1,28,28)\n",
    "    output = output.permute(1,2,0).squeeze(2)\n",
    "    output = output.detach().cpu().numpy()\n",
    "    \n",
    "    return img.reshape(28, 28), output #return original and compressed images"
   ]
  },
  {
   "cell_type": "code",
   "execution_count": 21,
   "metadata": {},
   "outputs": [],
   "source": [
    "test_original, test_compressed = compress_image(X_test[100])"
   ]
  },
  {
   "cell_type": "code",
   "execution_count": 22,
   "metadata": {},
   "outputs": [
    {
     "data": {
      "image/png": "[encoded data removed]",
      "text/plain": [
       "<Figure size 576x576 with 2 Axes>"
      ]
     },
     "metadata": {},
     "output_type": "display_data"
    }
   ],
   "source": [
    "plt.figure(figsize=(8, 8))\n",
    "plt.subplot(1, 2, 1), plt.imshow(test_original, 'gray')\n",
    "plt.title(\"Original Image\")\n",
    "plt.xticks([]), plt.yticks([]) #remove x and y axis\n",
    "\n",
    "plt.subplot(1, 2, 2), plt.imshow(test_compressed, 'gray')\n",
    "plt.title(\"DDCAE Output Image\")\n",
    "plt.xticks([]), plt.yticks([]) #remove x and y axis\n",
    "\n",
    "plt.show()"
   ]
  },
  {
   "cell_type": "markdown",
   "metadata": {},
   "source": [
    "## Save model"
   ]
  },
  {
   "cell_type": "code",
   "execution_count": 23,
   "metadata": {},
   "outputs": [],
   "source": [
    "torch.save(model.state_dict(), \"../model/ddcae_2.pth\") #save model."
   ]
  }
 ],
 "metadata": {
  "kernelspec": {
   "display_name": "Python 3",
   "language": "python",
   "name": "python3"
  },
  "language_info": {
   "codemirror_mode": {
    "name": "ipython",
    "version": 3
   },
   "file_extension": ".py",
   "mimetype": "text/x-python",
   "name": "python",
   "nbconvert_exporter": "python",
   "pygments_lexer": "ipython3",
   "version": "3.7.6"
  }
 },
 "nbformat": 4,
 "nbformat_minor": 4
}
