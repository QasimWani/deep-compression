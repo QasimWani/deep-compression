{
 "cells": [
  {
   "cell_type": "markdown",
   "metadata": {},
   "source": [
    "## Deep Denoising Compressive Autoencoder\n",
    "\n",
    "<p> Author: Qasim Wani <br> Date written: Nov. 25, 2020 </p>"
   ]
  },
  {
   "cell_type": "code",
   "execution_count": 1,
   "metadata": {},
   "outputs": [
    {
     "name": "stderr",
     "output_type": "stream",
     "text": [
      "Using TensorFlow backend.\n"
     ]
    }
   ],
   "source": [
    "import numpy as np\n",
    "import pandas as pd\n",
    "import matplotlib.pyplot as plt\n",
    "\n",
    "from tqdm import tqdm\n",
    "import time\n",
    "import os\n",
    "\n",
    "from keras.datasets import mnist\n",
    "from torchvision import transforms\n",
    "from torch.utils.data import DataLoader,Dataset\n",
    "\n",
    "import torch\n",
    "import torch.nn as nn\n",
    "import torch.optim as optim\n",
    "from torch.autograd import Variable"
   ]
  },
  {
   "cell_type": "markdown",
   "metadata": {},
   "source": [
    "## Step 1. loading data"
   ]
  },
  {
   "cell_type": "code",
   "execution_count": 2,
   "metadata": {},
   "outputs": [
    {
     "name": "stdout",
     "output_type": "stream",
     "text": [
      "Train data shape (60000, 28, 28)\n",
      "Test data shape (10000, 28, 28)\n"
     ]
    }
   ],
   "source": [
    "(X_train, y_train),(X_test, y_test) = mnist.load_data()\n",
    "print(f\"Train data shape {X_train.shape}\")\n",
    "print(f\"Test data shape {X_test.shape}\")"
   ]
  },
  {
   "cell_type": "markdown",
   "metadata": {},
   "source": [
    "## Step 2. Gaussian Noise"
   ]
  },
  {
   "cell_type": "code",
   "execution_count": 3,
   "metadata": {},
   "outputs": [],
   "source": [
    "def noise(img):\n",
    "    \"\"\"\n",
    "    Standard gaussian model for adding noise to an image.\n",
    "    @Param:\n",
    "    1. img - (nd.array) image to add noise to.\n",
    "    @Return:\n",
    "    - img - output of gaussian noise with mean = 0, variance = 1.\n",
    "    \"\"\"\n",
    "    return img + np.random.normal(0, 10, img.shape)"
   ]
  },
  {
   "cell_type": "code",
   "execution_count": 4,
   "metadata": {},
   "outputs": [
    {
     "data": {
      "image/png": "[encoded data removed]",
      "text/plain": [
       "<Figure size 576x576 with 2 Axes>"
      ]
     },
     "metadata": {
      "needs_background": "light"
     },
     "output_type": "display_data"
    }
   ],
   "source": [
    "plt.figure(figsize=(8, 8))\n",
    "plt.subplot(1, 2, 1), plt.imshow(X_train[0], 'gray'), plt.title(\"Original Image\")\n",
    "plt.subplot(1, 2, 2), plt.imshow(noise(X_train[0]), 'gray'), plt.title(\"Noisy Image\")\n",
    "plt.show()"
   ]
  },
  {
   "cell_type": "code",
   "execution_count": 5,
   "metadata": {},
   "outputs": [],
   "source": [
    "def generate_noisy_dataset(feature_matrix):\n",
    "    \"\"\"\n",
    "    Generates noisy dataset of images.\n",
    "    @Param:\n",
    "    1. feature_matrix: (nd.array) original/clean images.\n",
    "    @Returns:\n",
    "    - noisy_data: dirty/noisy images after applying gaussian noise function.\n",
    "    \"\"\"\n",
    "    noisy_data = []\n",
    "    for img in feature_matrix:\n",
    "        noisy_data.append(noise(img))\n",
    "    return np.array(noisy_data).reshape(feature_matrix.shape)"
   ]
  },
  {
   "cell_type": "code",
   "execution_count": 6,
   "metadata": {},
   "outputs": [],
   "source": [
    "noisy_X_train = generate_noisy_dataset(X_train)\n",
    "noisy_X_test = generate_noisy_dataset(X_test)"
   ]
  },
  {
   "cell_type": "markdown",
   "metadata": {},
   "source": [
    "## Step 3. Autoencoder model"
   ]
  },
  {
   "cell_type": "code",
   "execution_count": 7,
   "metadata": {},
   "outputs": [],
   "source": [
    "class DAE(nn.Module):\n",
    "    \"\"\"Defines the Denoising Autoencoder model\"\"\"\n",
    "    def __init__(self, image_size=(28, 28), fc1=256, fc2=128, bottleneck=64):\n",
    "        \"\"\"\n",
    "        Initialize encoder and decoder model.\n",
    "        @Param: \n",
    "        1. image_size: height and width of input image, tuple (m, n), where m is height and n is width.\n",
    "        2. fc1: number of hidden units for first fully connected layer.\n",
    "        3. fc2: number of hidden units for second fully connected layer.\n",
    "        4. bottleneck: number of hidden units for bottleneck (codes) layer.\n",
    "        \"\"\"\n",
    "        super(DAE, self).__init__()\n",
    "        m, n = image_size\n",
    "        self.encoder = nn.Sequential(\n",
    "                  nn.Linear(m * n, fc1),\n",
    "                  nn.ReLU(True),\n",
    "                  nn.Linear(fc1, fc2),\n",
    "                  nn.ReLU(True),\n",
    "                  nn.Linear(fc2, bottleneck),\n",
    "                  nn.ReLU(True)\n",
    "                  )\n",
    "        #build decoder as reconstruction filter.\n",
    "        self.decoder = nn.Sequential(\n",
    "                      nn.Linear(bottleneck, fc2),\n",
    "                      nn.ReLU(True),\n",
    "                      nn.Linear(fc2, fc1),\n",
    "                      nn.ReLU(True),\n",
    "                      nn.Linear(fc1, m * n),\n",
    "                      nn.Sigmoid(),\n",
    "                      )\n",
    "        \n",
    "    def forward(self, x):\n",
    "        \"\"\"Override forward pass by incorporating encoder and decoder network architecture\"\"\"\n",
    "        x = self.encoder(x) #compress image\n",
    "        x = self.decoder(x) #reconstruction\n",
    "        return x"
   ]
  },
  {
   "cell_type": "code",
   "execution_count": 8,
   "metadata": {},
   "outputs": [],
   "source": [
    "#Enable cuda if available\n",
    "device = torch.device(\"cuda:0\" if torch.cuda.is_available() else \"cpu\")"
   ]
  },
  {
   "cell_type": "code",
   "execution_count": 9,
   "metadata": {},
   "outputs": [],
   "source": [
    "model = DAE()\n",
    "# according to paper, lossy image compression with compressive autoencoders (https://arxiv.org/pdf/1703.00395.pdf)\n",
    "# they used MSE loss as a measure of distortion b/w reconstruction and original image\n",
    "### Note that original image ≠ input image.\n",
    "loss = nn.MSELoss()\n",
    "# paper uses Adam optimizer for regularization with default Adam hyperparameters. keeping it as is for now.\n",
    "optimizer = optim.Adam(model.parameters())"
   ]
  },
  {
   "cell_type": "markdown",
   "metadata": {},
   "source": [
    "## Step 4. Training the model"
   ]
  },
  {
   "cell_type": "code",
   "execution_count": 10,
   "metadata": {},
   "outputs": [],
   "source": [
    "def train(feature_matrix, labels, epochs=int(1e2), epsilon=0.5):\n",
    "    \"\"\"\n",
    "    Trains Autoencoder based on noisy images and corresponding labels\n",
    "    @Param:\n",
    "    1. feature_matrix: (nd.array) tuple representing (noisy_images, original_images).\n",
    "    2. labels: (nd.array[int]) labels corresponding to feature_matrix\n",
    "    3. epochs: (int) number of iterations\n",
    "    4. epsilon: (float) stopping condition\n",
    "    \"\"\"\n",
    "    noisy, original = feature_matrix\n",
    "    cost = []\n",
    "    for epoch in tqdm(range(epochs)):\n",
    "        running_loss = 0\n",
    "        for dirty, clean in zip(noisy, original):\n",
    "            dirty = torch.from_numpy(dirty).float().squeeze(0).flatten().to(device)\n",
    "            clean = torch.from_numpy(clean).float().squeeze(0).flatten().to(device)\n",
    "            \n",
    "            output = model(dirty) #get output from forward pass.\n",
    "            loss_output = loss(output, clean) #generate MSE error\n",
    "            \n",
    "            optimizer.zero_grad() #clean gradients\n",
    "            loss_output.backward() #backprop\n",
    "            optimizer.step()\n",
    "            \n",
    "            running_loss += loss_output.item()\n",
    "        \n",
    "        #append costs\n",
    "        cost.append(running_loss)\n",
    "        \n",
    "        if(running_loss < epsilon):\n",
    "            break\n",
    "\n",
    "    return cost"
   ]
  },
  {
   "cell_type": "code",
   "execution_count": null,
   "metadata": {},
   "outputs": [],
   "source": [
    "feature_matrix = (noisy_X_train, X_train) #generate overall feature matrix\n",
    "cost = train(feature_matrix, y_train)"
   ]
  }
 ],
 "metadata": {
  "kernelspec": {
   "display_name": "Python 3",
   "language": "python",
   "name": "python3"
  },
  "language_info": {
   "codemirror_mode": {
    "name": "ipython",
    "version": 3
   },
   "file_extension": ".py",
   "mimetype": "text/x-python",
   "name": "python",
   "nbconvert_exporter": "python",
   "pygments_lexer": "ipython3",
   "version": "3.7.6"
  }
 },
 "nbformat": 4,
 "nbformat_minor": 4
}
